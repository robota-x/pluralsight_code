{
 "cells": [
  {
   "cell_type": "code",
   "execution_count": 1,
   "metadata": {},
   "outputs": [],
   "source": [
    "# Initialisation"
   ]
  },
  {
   "cell_type": "code",
   "execution_count": 13,
   "metadata": {},
   "outputs": [],
   "source": [
    "import numpy as np\n",
    "from matplotlib import pyplot as plt\n",
    "from keras.datasets import fashion_mnist\n",
    "from keras.models import Sequential\n",
    "from keras.layers import Dense, Dropout, Flatten, Conv2D, MaxPooling2D\n",
    "from keras.losses import categorical_crossentropy\n",
    "from keras.optimizers import Adadelta\n",
    "\n",
    "from keras.utils import to_categorical\n",
    "\n",
    "%matplotlib inline"
   ]
  },
  {
   "cell_type": "code",
   "execution_count": 3,
   "metadata": {},
   "outputs": [],
   "source": [
    "# Set helper values"
   ]
  },
  {
   "cell_type": "code",
   "execution_count": 4,
   "metadata": {},
   "outputs": [],
   "source": [
    "num_classes = 10\n",
    "batch_size = 128\n",
    "epochs = 24\n",
    "input_shape = (28, 28, 1)  # explicitly set the shape as a 28x28px with a single channel"
   ]
  },
  {
   "cell_type": "code",
   "execution_count": 5,
   "metadata": {},
   "outputs": [],
   "source": [
    "# Load and massage data"
   ]
  },
  {
   "cell_type": "code",
   "execution_count": 6,
   "metadata": {},
   "outputs": [],
   "source": [
    "def prepare_X_data(dataset):\n",
    "    dataset = dataset.reshape(dataset.shape[0], *input_shape)  # explcitly set the shape\n",
    "    dataset = dataset.astype('float32')\n",
    "    dataset = dataset / 255  # renormalize intensity to 0-1\n",
    "    \n",
    "    return dataset\n",
    "\n",
    "def prepare_y_data(dataset):\n",
    "    dataset = to_categorical(dataset, num_classes)  # one-hot encoding, ensure categorical data is not treated as N\n",
    "    \n",
    "    return dataset"
   ]
  },
  {
   "cell_type": "code",
   "execution_count": 8,
   "metadata": {},
   "outputs": [],
   "source": [
    "(x_train, y_train), (x_test, y_test) = fashion_mnist.load_data()  # actually downloads about 30mb of data\n",
    "\n",
    "x_train = prepare_X_data(x_train)\n",
    "x_test = prepare_X_data(x_test)\n",
    "y_train = prepare_y_data(y_train)\n",
    "y_test = prepare_y_data(y_test)"
   ]
  },
  {
   "cell_type": "code",
   "execution_count": 9,
   "metadata": {},
   "outputs": [],
   "source": [
    "# Model definition and training"
   ]
  },
  {
   "cell_type": "code",
   "execution_count": 10,
   "metadata": {},
   "outputs": [],
   "source": [
    "model = Sequential()\n",
    "\n",
    "# convolution+pooling layers\n",
    "model.add(Conv2D(32, kernel_size=(3, 3), activation='relu', input_shape=input_shape))\n",
    "model.add(MaxPooling2D(pool_size=(2,2)))\n",
    "model.add(Conv2D(32, kernel_size=(3, 3), activation='relu'))\n",
    "model.add(MaxPooling2D(pool_size=(2,2)))\n",
    "\n",
    "# dense layers\n",
    "model.add(Flatten())  # transform to a feature vector for easier handling\n",
    "model.add(Dense(128, activation='relu'))\n",
    "model.add(Dropout(0.3))  # dropout layer to prevent overfitting\n",
    "model.add(Dense(num_classes, activation='softmax'))\n",
    "\n",
    "model.compile(\n",
    "    loss=categorical_crossentropy,\n",
    "    optimizer=Adadelta(),\n",
    "    metrics=['accuracy']\n",
    ")"
   ]
  },
  {
   "cell_type": "code",
   "execution_count": 11,
   "metadata": {
    "scrolled": true
   },
   "outputs": [
    {
     "name": "stdout",
     "output_type": "stream",
     "text": [
      "Train on 60000 samples, validate on 10000 samples\n",
      "Epoch 1/24\n",
      "60000/60000 [==============================] - 20s 330us/step - loss: 0.6540 - acc: 0.7605 - val_loss: 0.4305 - val_acc: 0.8392\n",
      "Epoch 2/24\n",
      "60000/60000 [==============================] - 20s 326us/step - loss: 0.4029 - acc: 0.8530 - val_loss: 0.3644 - val_acc: 0.8702\n",
      "Epoch 3/24\n",
      "60000/60000 [==============================] - 20s 326us/step - loss: 0.3523 - acc: 0.8709 - val_loss: 0.3309 - val_acc: 0.8786\n",
      "Epoch 4/24\n",
      "60000/60000 [==============================] - 20s 335us/step - loss: 0.3202 - acc: 0.8838 - val_loss: 0.3197 - val_acc: 0.8831\n",
      "Epoch 5/24\n",
      "60000/60000 [==============================] - 20s 340us/step - loss: 0.2972 - acc: 0.8901 - val_loss: 0.2995 - val_acc: 0.8919\n",
      "Epoch 6/24\n",
      "60000/60000 [==============================] - 21s 351us/step - loss: 0.2827 - acc: 0.8965 - val_loss: 0.2935 - val_acc: 0.8931\n",
      "Epoch 7/24\n",
      "60000/60000 [==============================] - 22s 360us/step - loss: 0.2669 - acc: 0.9020 - val_loss: 0.2824 - val_acc: 0.8977\n",
      "Epoch 8/24\n",
      "60000/60000 [==============================] - 24s 401us/step - loss: 0.2565 - acc: 0.9062 - val_loss: 0.2760 - val_acc: 0.9014\n",
      "Epoch 9/24\n",
      "60000/60000 [==============================] - 22s 365us/step - loss: 0.2447 - acc: 0.9098 - val_loss: 0.2695 - val_acc: 0.9030\n",
      "Epoch 10/24\n",
      "60000/60000 [==============================] - 20s 341us/step - loss: 0.2336 - acc: 0.9139 - val_loss: 0.2715 - val_acc: 0.9006\n",
      "Epoch 11/24\n",
      "60000/60000 [==============================] - 21s 347us/step - loss: 0.2260 - acc: 0.9161 - val_loss: 0.2585 - val_acc: 0.9064\n",
      "Epoch 12/24\n",
      "60000/60000 [==============================] - 21s 344us/step - loss: 0.2158 - acc: 0.9203 - val_loss: 0.2515 - val_acc: 0.9100\n",
      "Epoch 13/24\n",
      "60000/60000 [==============================] - 21s 349us/step - loss: 0.2078 - acc: 0.9239 - val_loss: 0.2592 - val_acc: 0.9075\n",
      "Epoch 14/24\n",
      "60000/60000 [==============================] - 21s 352us/step - loss: 0.2009 - acc: 0.9249 - val_loss: 0.2673 - val_acc: 0.9041\n",
      "Epoch 15/24\n",
      "60000/60000 [==============================] - 22s 367us/step - loss: 0.1944 - acc: 0.9282 - val_loss: 0.2476 - val_acc: 0.9126\n",
      "Epoch 16/24\n",
      "60000/60000 [==============================] - 21s 353us/step - loss: 0.1882 - acc: 0.9299 - val_loss: 0.2519 - val_acc: 0.9103\n",
      "Epoch 17/24\n",
      "60000/60000 [==============================] - 21s 345us/step - loss: 0.1832 - acc: 0.9325 - val_loss: 0.2515 - val_acc: 0.9128\n",
      "Epoch 18/24\n",
      "60000/60000 [==============================] - 24s 403us/step - loss: 0.1757 - acc: 0.9347 - val_loss: 0.2541 - val_acc: 0.9117\n",
      "Epoch 19/24\n",
      "60000/60000 [==============================] - 24s 399us/step - loss: 0.1708 - acc: 0.9360 - val_loss: 0.2500 - val_acc: 0.9142\n",
      "Epoch 20/24\n",
      "60000/60000 [==============================] - 23s 376us/step - loss: 0.1628 - acc: 0.9402 - val_loss: 0.2559 - val_acc: 0.9107\n",
      "Epoch 21/24\n",
      "60000/60000 [==============================] - 24s 400us/step - loss: 0.1592 - acc: 0.9415 - val_loss: 0.2531 - val_acc: 0.9152\n",
      "Epoch 22/24\n",
      "60000/60000 [==============================] - 24s 398us/step - loss: 0.1522 - acc: 0.9438 - val_loss: 0.2623 - val_acc: 0.9083\n",
      "Epoch 23/24\n",
      "60000/60000 [==============================] - 21s 352us/step - loss: 0.1482 - acc: 0.9453 - val_loss: 0.2564 - val_acc: 0.9147\n",
      "Epoch 24/24\n",
      "60000/60000 [==============================] - 22s 362us/step - loss: 0.1458 - acc: 0.9454 - val_loss: 0.2615 - val_acc: 0.9134\n"
     ]
    }
   ],
   "source": [
    "# ~20s per layer on laptop cpu\n",
    "train_history = model.fit(\n",
    "    x_train, \n",
    "    y_train,\n",
    "    batch_size=batch_size,\n",
    "    epochs=epochs,\n",
    "    verbose=True,\n",
    "    validation_data=(x_test, y_test)\n",
    ")"
   ]
  },
  {
   "cell_type": "code",
   "execution_count": 12,
   "metadata": {},
   "outputs": [],
   "source": [
    "# Scoring"
   ]
  },
  {
   "cell_type": "code",
   "execution_count": 14,
   "metadata": {},
   "outputs": [
    {
     "name": "stdout",
     "output_type": "stream",
     "text": [
      "[0.2614892368912697, 0.9134]\n"
     ]
    },
    {
     "data": {
      "image/png": "[encoded data removed]",
      "text/plain": [
       "<Figure size 864x576 with 1 Axes>"
      ]
     },
     "metadata": {},
     "output_type": "display_data"
    }
   ],
   "source": [
    "print(model.evaluate(x_test, y_test, verbose=0))\n",
    "\n",
    "epoch_list = list(range(1, len(train_history.history['acc']) + 1))  # values\n",
    "plt.figure(figsize=(12, 8))\n",
    "plt.plot(epoch_list, train_history.history['acc'], epoch_list, train_history.history['val_acc'])\n",
    "plt.legend(('Training Accuracy', 'Validation Accuracy'))\n",
    "\n",
    "plt.show()"
   ]
  },
  {
   "cell_type": "code",
   "execution_count": null,
   "metadata": {},
   "outputs": [],
   "source": []
  }
 ],
 "metadata": {
  "kernelspec": {
   "display_name": "Python 3",
   "language": "python",
   "name": "python3"
  },
  "language_info": {
   "codemirror_mode": {
    "name": "ipython",
    "version": 3
   },
   "file_extension": ".py",
   "mimetype": "text/x-python",
   "name": "python",
   "nbconvert_exporter": "python",
   "pygments_lexer": "ipython3",
   "version": "3.6.6"
  }
 },
 "nbformat": 4,
 "nbformat_minor": 2
}
