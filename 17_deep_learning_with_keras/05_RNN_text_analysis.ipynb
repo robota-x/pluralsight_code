{
 "cells": [
  {
   "cell_type": "code",
   "execution_count": 0,
   "metadata": {
    "colab": {},
    "colab_type": "code",
    "id": "a4fvYtNt4yWf"
   },
   "outputs": [],
   "source": [
    "# Initialisation"
   ]
  },
  {
   "cell_type": "code",
   "execution_count": 0,
   "metadata": {
    "colab": {},
    "colab_type": "code",
    "id": "B5Oy-AgZ5M6h"
   },
   "outputs": [],
   "source": [
    "from keras.preprocessing.sequence import pad_sequences\n",
    "from keras.models import Sequential\n",
    "from keras.layers import Dense, Embedding, CuDNNGRU\n",
    "from keras.callbacks import EarlyStopping\n",
    "from keras.datasets import imdb"
   ]
  },
  {
   "cell_type": "code",
   "execution_count": 0,
   "metadata": {
    "colab": {},
    "colab_type": "code",
    "id": "5HbLFEE35S4i"
   },
   "outputs": [],
   "source": [
    "# Constants and helpers"
   ]
  },
  {
   "cell_type": "code",
   "execution_count": 0,
   "metadata": {
    "colab": {},
    "colab_type": "code",
    "id": "vHTrev8d8Dmq"
   },
   "outputs": [],
   "source": [
    "num_words = 3000"
   ]
  },
  {
   "cell_type": "code",
   "execution_count": 0,
   "metadata": {
    "colab": {},
    "colab_type": "code",
    "id": "jeWtWt3A572b"
   },
   "outputs": [],
   "source": [
    "# Load and massage data"
   ]
  },
  {
   "cell_type": "code",
   "execution_count": 34,
   "metadata": {
    "colab": {
     "base_uri": "https://localhost:8080/",
     "height": 54
    },
    "colab_type": "code",
    "id": "T7TVj2Xn59ku",
    "outputId": "4e405842-f13c-4320-a59c-e2b8b5449f7e"
   },
   "outputs": [
    {
     "name": "stdout",
     "output_type": "stream",
     "text": [
      "25000 [2, 14, 22, 16, 43, 530, 973, 1622, 1385, 65, 458, 2, 66, 2, 2, 173, 36, 256, 5, 25, 100, 43, 838, 112, 50, 670, 2, 9, 35, 480, 284, 5, 150, 2, 172, 112, 167, 2, 336, 385, 39, 2, 172, 2, 1111, 17, 546, 38, 13, 447, 2, 192, 50, 16, 6, 147, 2025, 19, 14, 22, 2, 1920, 2, 469, 2, 22, 71, 87, 12, 16, 43, 530, 38, 76, 15, 13, 1247, 2, 22, 17, 515, 17, 12, 16, 626, 18, 2, 5, 62, 386, 12, 8, 316, 8, 106, 5, 2, 2223, 2, 16, 480, 66, 2, 33, 2, 130, 12, 16, 38, 619, 5, 25, 124, 51, 36, 135, 48, 25, 1415, 33, 6, 22, 12, 215, 28, 77, 52, 5, 14, 407, 16, 82, 2, 8, 2, 107, 117, 2, 15, 256, 2, 2, 7, 2, 5, 723, 36, 71, 43, 530, 476, 26, 400, 317, 46, 7, 2, 2, 1029, 13, 104, 88, 2, 381, 15, 297, 98, 32, 2071, 56, 26, 141, 6, 194, 2, 18, 2, 226, 22, 21, 134, 476, 26, 480, 5, 144, 30, 2, 18, 51, 36, 28, 224, 92, 25, 104, 2, 226, 65, 16, 38, 1334, 88, 12, 16, 283, 5, 16, 2, 113, 103, 32, 15, 16, 2, 19, 178, 32] 1\n"
     ]
    }
   ],
   "source": [
    "(x_train, y_train), (x_test, y_test) = imdb.load_data(num_words=num_words, skip_top=5)  # downloads ~20mb of data\n",
    "\n",
    "print(len(x_train), x_train[0], y_train[0])"
   ]
  },
  {
   "cell_type": "code",
   "execution_count": 35,
   "metadata": {
    "colab": {
     "base_uri": "https://localhost:8080/",
     "height": 34
    },
    "colab_type": "code",
    "id": "gceJHBpC6VYF",
    "outputId": "c74eb2cc-3a1d-404d-d105-102fd31aec7c"
   },
   "outputs": [
    {
     "name": "stdout",
     "output_type": "stream",
     "text": [
      "2697\n"
     ]
    }
   ],
   "source": [
    "# ensure all reviews are padded to the longest review\n",
    "max_review_length = max(len(review) for review in x_train + x_test)\n",
    "x_test = pad_sequences(x_test, maxlen=max_review_length)\n",
    "x_train = pad_sequences(x_train, maxlen=max_review_length)\n",
    "\n",
    "print(max_review_length)"
   ]
  },
  {
   "cell_type": "code",
   "execution_count": 0,
   "metadata": {
    "colab": {},
    "colab_type": "code",
    "id": "uEJrBe5e7lTs"
   },
   "outputs": [],
   "source": [
    "# Model definition and training"
   ]
  },
  {
   "cell_type": "code",
   "execution_count": 0,
   "metadata": {
    "colab": {},
    "colab_type": "code",
    "id": "auFIdXfp7ubC"
   },
   "outputs": [],
   "source": [
    "model = Sequential()\n",
    "\n",
    "model.add(Embedding(num_words, 32))  # Layer, coverts each token to vector in a 32-dim space\n",
    "model.add(CuDNNGRU(32))  # GRU layer with specific CUDA optimization, does not support dropout\n",
    "model.add(Dense(1, activation='sigmoid'))  # Fully connected positive/negative layer\n",
    "\n",
    "model.compile(\n",
    "    loss='binary_crossentropy',\n",
    "    optimizer='adam',\n",
    "    metrics=['accuracy']\n",
    ")"
   ]
  },
  {
   "cell_type": "code",
   "execution_count": 36,
   "metadata": {
    "colab": {
     "base_uri": "https://localhost:8080/",
     "height": 374
    },
    "colab_type": "code",
    "id": "FJR_aiiw-TJ_",
    "outputId": "252a3d1e-96db-4c97-fd79-a4f44a6f9814"
   },
   "outputs": [
    {
     "name": "stdout",
     "output_type": "stream",
     "text": [
      "Epoch 1/10\n",
      "25000/25000 [==============================] - 29s 1ms/step - loss: 0.4942 - acc: 0.7548\n",
      "Epoch 2/10\n",
      "25000/25000 [==============================] - 29s 1ms/step - loss: 0.3152 - acc: 0.8704\n",
      "Epoch 3/10\n",
      "25000/25000 [==============================] - 29s 1ms/step - loss: 0.2785 - acc: 0.8873\n",
      "Epoch 4/10\n",
      "25000/25000 [==============================] - 29s 1ms/step - loss: 0.2457 - acc: 0.9044\n",
      "Epoch 5/10\n",
      "25000/25000 [==============================] - 29s 1ms/step - loss: 0.2297 - acc: 0.9113\n",
      "Epoch 6/10\n",
      "25000/25000 [==============================] - 29s 1ms/step - loss: 0.2151 - acc: 0.9182\n",
      "Epoch 7/10\n",
      "25000/25000 [==============================] - 29s 1ms/step - loss: 0.2079 - acc: 0.9228\n",
      "Epoch 8/10\n",
      "25000/25000 [==============================] - 29s 1ms/step - loss: 0.2144 - acc: 0.9190\n",
      "Epoch 9/10\n",
      "25000/25000 [==============================] - 29s 1ms/step - loss: 0.2058 - acc: 0.9224\n",
      "Epoch 10/10\n",
      "25000/25000 [==============================] - 29s 1ms/step - loss: 0.1877 - acc: 0.9317\n"
     ]
    },
    {
     "data": {
      "text/plain": [
       "<keras.callbacks.History at 0x7f16fb2fbf60>"
      ]
     },
     "execution_count": 36,
     "metadata": {
      "tags": []
     },
     "output_type": "execute_result"
    }
   ],
   "source": [
    "early_stop_callback = EarlyStopping(\n",
    "    monitor='acc',\n",
    "    patience=3,\n",
    "    mode='max'\n",
    ")\n",
    "\n",
    "train_history = model.fit(\n",
    "    x_train,\n",
    "    y_train,\n",
    "    batch_size=256,  # aggressive batch size to speed up this test + better estimate gradient\n",
    "    epochs=10,\n",
    "    callbacks=[early_stop_callback,]\n",
    ")"
   ]
  },
  {
   "cell_type": "code",
   "execution_count": 0,
   "metadata": {
    "colab": {},
    "colab_type": "code",
    "id": "RUholQSS_9Je"
   },
   "outputs": [],
   "source": [
    "# Scoring and evaluation"
   ]
  },
  {
   "cell_type": "code",
   "execution_count": 39,
   "metadata": {
    "colab": {
     "base_uri": "https://localhost:8080/",
     "height": 34
    },
    "colab_type": "code",
    "id": "L-ri4YyrAA9G",
    "outputId": "3d81bcd2-52ca-43b8-aa0e-77093cade05b"
   },
   "outputs": [
    {
     "name": "stdout",
     "output_type": "stream",
     "text": [
      "25000/25000 [==============================] - 12s 498us/step\n"
     ]
    }
   ],
   "source": [
    "score, accuracy = model.evaluate(\n",
    "    x_test,\n",
    "    y_test,\n",
    "    batch_size=256\n",
    ")\n",
    "print('test score:', score, ' test accuracy:', accuracy)"
   ]
  },
  {
   "cell_type": "code",
   "execution_count": 0,
   "metadata": {
    "colab": {},
    "colab_type": "code",
    "id": "c0BHOwd6C5Tm"
   },
   "outputs": [],
   "source": [
    "epoch_list = list(range(1, len(train_history.history['acc']) + 1))  # values\n",
    "plt.figure(figsize=(12, 8))\n",
    "plt.plot(epoch_list, train_history.history['acc'], epoch_list, train_history.history['val_acc'])\n",
    "plt.legend(('Training Accuracy', 'Validation Accuracy'))\n",
    "\n",
    "plt.show()"
   ]
  }
 ],
 "metadata": {
  "accelerator": "GPU",
  "colab": {
   "collapsed_sections": [],
   "name": "05_RNN_text_analysis",
   "provenance": [],
   "version": "0.3.2"
  },
  "kernelspec": {
   "display_name": "Python 3",
   "language": "python",
   "name": "python3"
  },
  "language_info": {
   "codemirror_mode": {
    "name": "ipython",
    "version": 3
   },
   "file_extension": ".py",
   "mimetype": "text/x-python",
   "name": "python",
   "nbconvert_exporter": "python",
   "pygments_lexer": "ipython3",
   "version": "3.6.6"
  }
 },
 "nbformat": 4,
 "nbformat_minor": 1
}
