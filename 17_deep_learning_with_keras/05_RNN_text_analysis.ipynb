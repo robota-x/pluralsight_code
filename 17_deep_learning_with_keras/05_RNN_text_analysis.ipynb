{
  "nbformat": 4,
  "nbformat_minor": 0,
  "metadata": {
    "colab": {
      "name": "05_RNN_text_analysis",
      "version": "0.3.2",
      "provenance": [],
      "collapsed_sections": []
    },
    "kernelspec": {
      "name": "python3",
      "display_name": "Python 3"
    },
    "accelerator": "GPU"
  },
  "cells": [
    {
      "metadata": {
        "id": "a4fvYtNt4yWf",
        "colab_type": "code",
        "colab": {}
      },
      "cell_type": "code",
      "source": [
        "# Initialisation"
      ],
      "execution_count": 0,
      "outputs": []
    },
    {
      "metadata": {
        "id": "B5Oy-AgZ5M6h",
        "colab_type": "code",
        "colab": {
          "base_uri": "https://localhost:8080/",
          "height": 34
        },
        "outputId": "48418d89-2fdd-41fa-e4b9-3a748d96f18f"
      },
      "cell_type": "code",
      "source": [
        "from keras.preprocessing.sequence import pad_sequences\n",
        "from keras.models import Sequential\n",
        "from keras.layers import Dense, Embedding, CuDNNGRU, GRU\n",
        "from keras.callbacks import EarlyStopping\n",
        "from keras.datasets import imdb"
      ],
      "execution_count": 2,
      "outputs": [
        {
          "output_type": "stream",
          "text": [
            "Using TensorFlow backend.\n"
          ],
          "name": "stderr"
        }
      ]
    },
    {
      "metadata": {
        "id": "5HbLFEE35S4i",
        "colab_type": "code",
        "colab": {}
      },
      "cell_type": "code",
      "source": [
        "# Constants and helpers"
      ],
      "execution_count": 0,
      "outputs": []
    },
    {
      "metadata": {
        "id": "vHTrev8d8Dmq",
        "colab_type": "code",
        "colab": {}
      },
      "cell_type": "code",
      "source": [
        "num_words = 3000"
      ],
      "execution_count": 0,
      "outputs": []
    },
    {
      "metadata": {
        "id": "jeWtWt3A572b",
        "colab_type": "code",
        "colab": {}
      },
      "cell_type": "code",
      "source": [
        "# Load and massage data"
      ],
      "execution_count": 0,
      "outputs": []
    },
    {
      "metadata": {
        "id": "T7TVj2Xn59ku",
        "colab_type": "code",
        "colab": {
          "base_uri": "https://localhost:8080/",
          "height": 54
        },
        "outputId": "b7303172-4ae3-4da4-bf73-e6ab5410ae03"
      },
      "cell_type": "code",
      "source": [
        "(x_train, y_train), (x_test, y_test) = imdb.load_data(num_words=num_words, skip_top=5)  # downloads ~20mb of data\n",
        "\n",
        "print(len(x_train), x_train[0], y_train[0])"
      ],
      "execution_count": 6,
      "outputs": [
        {
          "output_type": "stream",
          "text": [
            "25000 [2, 14, 22, 16, 43, 530, 973, 1622, 1385, 65, 458, 2, 66, 2, 2, 173, 36, 256, 5, 25, 100, 43, 838, 112, 50, 670, 2, 9, 35, 480, 284, 5, 150, 2, 172, 112, 167, 2, 336, 385, 39, 2, 172, 2, 1111, 17, 546, 38, 13, 447, 2, 192, 50, 16, 6, 147, 2025, 19, 14, 22, 2, 1920, 2, 469, 2, 22, 71, 87, 12, 16, 43, 530, 38, 76, 15, 13, 1247, 2, 22, 17, 515, 17, 12, 16, 626, 18, 2, 5, 62, 386, 12, 8, 316, 8, 106, 5, 2, 2223, 2, 16, 480, 66, 2, 33, 2, 130, 12, 16, 38, 619, 5, 25, 124, 51, 36, 135, 48, 25, 1415, 33, 6, 22, 12, 215, 28, 77, 52, 5, 14, 407, 16, 82, 2, 8, 2, 107, 117, 2, 15, 256, 2, 2, 7, 2, 5, 723, 36, 71, 43, 530, 476, 26, 400, 317, 46, 7, 2, 2, 1029, 13, 104, 88, 2, 381, 15, 297, 98, 32, 2071, 56, 26, 141, 6, 194, 2, 18, 2, 226, 22, 21, 134, 476, 26, 480, 5, 144, 30, 2, 18, 51, 36, 28, 224, 92, 25, 104, 2, 226, 65, 16, 38, 1334, 88, 12, 16, 283, 5, 16, 2, 113, 103, 32, 15, 16, 2, 19, 178, 32] 1\n"
          ],
          "name": "stdout"
        }
      ]
    },
    {
      "metadata": {
        "id": "gceJHBpC6VYF",
        "colab_type": "code",
        "colab": {
          "base_uri": "https://localhost:8080/",
          "height": 34
        },
        "outputId": "265120b1-c356-400e-ba3d-cefb66cae59f"
      },
      "cell_type": "code",
      "source": [
        "# ensure all reviews are padded to the longest review\n",
        "max_review_length = max(len(review) for review in x_train + x_test)\n",
        "x_test = pad_sequences(x_test, maxlen=max_review_length)\n",
        "x_train = pad_sequences(x_train, maxlen=max_review_length)\n",
        "\n",
        "print(max_review_length)"
      ],
      "execution_count": 7,
      "outputs": [
        {
          "output_type": "stream",
          "text": [
            "2697\n"
          ],
          "name": "stdout"
        }
      ]
    },
    {
      "metadata": {
        "id": "uEJrBe5e7lTs",
        "colab_type": "code",
        "colab": {}
      },
      "cell_type": "code",
      "source": [
        "# Model definition and training"
      ],
      "execution_count": 0,
      "outputs": []
    },
    {
      "metadata": {
        "id": "auFIdXfp7ubC",
        "colab_type": "code",
        "colab": {}
      },
      "cell_type": "code",
      "source": [
        "model = Sequential()\n",
        "\n",
        "model.add(Embedding(num_words, 128))  # Layer, coverts each token to vector in a 32-dim space\n",
        "model.add(CuDNNGRU(128))  # GRU layer with specific CUDA optimization, does not support dropout\n",
        "# model.add(GRU(32))  # no cude on my laptop eh\n",
        "model.add(Dense(16, activation='tanh'))  # Just slap another layer in\n",
        "model.add(Dense(1, activation='sigmoid'))  # Fully connected positive/negative layer\n",
        "\n",
        "model.compile(\n",
        "    loss='binary_crossentropy',\n",
        "    optimizer='adam',\n",
        "    metrics=['accuracy']\n",
        ")"
      ],
      "execution_count": 0,
      "outputs": []
    },
    {
      "metadata": {
        "id": "FJR_aiiw-TJ_",
        "colab_type": "code",
        "colab": {
          "base_uri": "https://localhost:8080/",
          "height": 340
        },
        "outputId": "0fd317b4-2cc3-40de-ac02-a88342a08f49"
      },
      "cell_type": "code",
      "source": [
        "early_stop_callback = EarlyStopping(\n",
        "    monitor='val_acc',\n",
        "    patience=5,\n",
        "    mode='max'\n",
        ")\n",
        "\n",
        "train_history = model.fit(  # ~1.5 min per epoch on colab with gpu backend\n",
        "    x_train,\n",
        "    y_train,\n",
        "    batch_size=128,  # aggressive batch size to speed up training a bit\n",
        "    epochs=20,\n",
        "    validation_data=(x_test, y_test),\n",
        "    callbacks=[early_stop_callback,]\n",
        ")"
      ],
      "execution_count": 10,
      "outputs": [
        {
          "output_type": "stream",
          "text": [
            "Train on 25000 samples, validate on 25000 samples\n",
            "Epoch 1/20\n",
            "25000/25000 [==============================] - 125s 5ms/step - loss: 0.4852 - acc: 0.7579 - val_loss: 0.3966 - val_acc: 0.8194\n",
            "Epoch 2/20\n",
            "25000/25000 [==============================] - 123s 5ms/step - loss: 0.3029 - acc: 0.8773 - val_loss: 0.2958 - val_acc: 0.8778\n",
            "Epoch 3/20\n",
            "25000/25000 [==============================] - 122s 5ms/step - loss: 0.2414 - acc: 0.9047 - val_loss: 0.2977 - val_acc: 0.8827\n",
            "Epoch 4/20\n",
            "25000/25000 [==============================] - 122s 5ms/step - loss: 0.2002 - acc: 0.9244 - val_loss: 0.2893 - val_acc: 0.8830\n",
            "Epoch 5/20\n",
            "25000/25000 [==============================] - 122s 5ms/step - loss: 0.1659 - acc: 0.9381 - val_loss: 0.3070 - val_acc: 0.8776\n",
            "Epoch 6/20\n",
            "25000/25000 [==============================] - 122s 5ms/step - loss: 0.1375 - acc: 0.9510 - val_loss: 0.3292 - val_acc: 0.8760\n",
            "Epoch 7/20\n",
            "25000/25000 [==============================] - 122s 5ms/step - loss: 0.1105 - acc: 0.9628 - val_loss: 0.3788 - val_acc: 0.8799\n",
            "Epoch 8/20\n",
            "25000/25000 [==============================] - 123s 5ms/step - loss: 0.0941 - acc: 0.9703 - val_loss: 0.4021 - val_acc: 0.8745\n",
            "Epoch 9/20\n",
            "25000/25000 [==============================] - 122s 5ms/step - loss: 0.0807 - acc: 0.9745 - val_loss: 0.4441 - val_acc: 0.8632\n"
          ],
          "name": "stdout"
        }
      ]
    },
    {
      "metadata": {
        "id": "RUholQSS_9Je",
        "colab_type": "code",
        "colab": {}
      },
      "cell_type": "code",
      "source": [
        "# Scoring and evaluation"
      ],
      "execution_count": 0,
      "outputs": []
    },
    {
      "metadata": {
        "id": "L-ri4YyrAA9G",
        "colab_type": "code",
        "colab": {
          "base_uri": "https://localhost:8080/",
          "height": 51
        },
        "outputId": "797e6713-41a4-42c5-bde8-1dbe7d4d2aeb"
      },
      "cell_type": "code",
      "source": [
        "score, accuracy = model.evaluate(\n",
        "    x_test,\n",
        "    y_test,\n",
        "    batch_size=1000\n",
        ")\n",
        "print('test score:', score, ' test accuracy:', accuracy)"
      ],
      "execution_count": 12,
      "outputs": [
        {
          "output_type": "stream",
          "text": [
            "25000/25000 [==============================] - 16s 635us/step\n",
            "test score: 0.44414350628852844  test accuracy: 0.8632400012016297\n"
          ],
          "name": "stdout"
        }
      ]
    },
    {
      "metadata": {
        "id": "Dr4kU5JOCvjo",
        "colab_type": "code",
        "colab": {
          "base_uri": "https://localhost:8080/",
          "height": 483
        },
        "outputId": "b443f701-b6a6-4843-f2ad-08bed8bfafde"
      },
      "cell_type": "code",
      "source": [
        "from matplotlib import pyplot as plt\n",
        "\n",
        "epoch_list = list(range(1, len(train_history.history['acc']) + 1))  # values\n",
        "plt.figure(figsize=(12, 8))\n",
        "plt.plot(epoch_list, train_history.history['acc'], epoch_list, train_history.history['val_acc'])\n",
        "plt.legend(('Training Accuracy', 'Validation Accuracy'))\n",
        "\n",
        "plt.show()  # overfitting yay."
      ],
      "execution_count": 13,
      "outputs": [
        {
          "output_type": "display_data",
          "data": {
            "image/png": "[encoded data removed]",
            "text/plain": [
              "<matplotlib.figure.Figure at 0x7f04b7fe1278>"
            ]
          },
          "metadata": {
            "tags": []
          }
        }
      ]
    },
    {
      "metadata": {
        "id": "c0BHOwd6C5Tm",
        "colab_type": "code",
        "colab": {}
      },
      "cell_type": "code",
      "source": [
        "# Trial with some dropout layers"
      ],
      "execution_count": 0,
      "outputs": []
    },
    {
      "metadata": {
        "id": "fNiyV5qp8OKc",
        "colab_type": "code",
        "colab": {}
      },
      "cell_type": "code",
      "source": [
        "from keras.layers import Dropout\n",
        "\n",
        "drop_model = Sequential()\n",
        "\n",
        "drop_model.add(Embedding(num_words, 128))\n",
        "drop_model.add(CuDNNGRU(128))\n",
        "drop_model.add(Dropout(0.25))\n",
        "drop_model.add(Dense(64, activation='sigmoid'))\n",
        "drop_model.add(Dropout(0.25))\n",
        "drop_model.add(Dense(1, activation='sigmoid'))\n",
        "\n",
        "drop_model.compile(\n",
        "    loss='binary_crossentropy',\n",
        "    optimizer='adam',\n",
        "    metrics=['accuracy']\n",
        ")"
      ],
      "execution_count": 0,
      "outputs": []
    },
    {
      "metadata": {
        "id": "pka32xnj87xp",
        "colab_type": "code",
        "colab": {
          "base_uri": "https://localhost:8080/",
          "height": 442
        },
        "outputId": "315c02d9-318d-4792-90cb-c2eeb75aa8c2"
      },
      "cell_type": "code",
      "source": [
        "early_stop_callback = EarlyStopping(\n",
        "    monitor='val_acc',\n",
        "    patience=6,\n",
        "    mode='max'\n",
        ")\n",
        "\n",
        "drop_train_history = drop_model.fit(\n",
        "    x_train,\n",
        "    y_train,\n",
        "    batch_size=128,\n",
        "    epochs=30,\n",
        "    validation_data=(x_test, y_test),\n",
        "    callbacks=[early_stop_callback,]\n",
        ")"
      ],
      "execution_count": 18,
      "outputs": [
        {
          "output_type": "stream",
          "text": [
            "Train on 25000 samples, validate on 25000 samples\n",
            "Epoch 1/30\n",
            "25000/25000 [==============================] - 121s 5ms/step - loss: 0.5664 - acc: 0.6866 - val_loss: 0.5214 - val_acc: 0.7419\n",
            "Epoch 2/30\n",
            "25000/25000 [==============================] - 120s 5ms/step - loss: 0.4159 - acc: 0.8193 - val_loss: 0.7890 - val_acc: 0.7781\n",
            "Epoch 3/30\n",
            "25000/25000 [==============================] - 121s 5ms/step - loss: 0.3609 - acc: 0.8579 - val_loss: 0.4369 - val_acc: 0.8226\n",
            "Epoch 4/30\n",
            "25000/25000 [==============================] - 121s 5ms/step - loss: 0.2793 - acc: 0.8938 - val_loss: 0.3397 - val_acc: 0.8559\n",
            "Epoch 5/30\n",
            "25000/25000 [==============================] - 121s 5ms/step - loss: 0.2401 - acc: 0.9122 - val_loss: 0.2878 - val_acc: 0.8836\n",
            "Epoch 6/30\n",
            "25000/25000 [==============================] - 121s 5ms/step - loss: 0.2095 - acc: 0.9263 - val_loss: 0.2846 - val_acc: 0.8863\n",
            "Epoch 7/30\n",
            "25000/25000 [==============================] - 120s 5ms/step - loss: 0.1875 - acc: 0.9344 - val_loss: 0.3202 - val_acc: 0.8696\n",
            "Epoch 8/30\n",
            "25000/25000 [==============================] - 120s 5ms/step - loss: 0.1680 - acc: 0.9446 - val_loss: 0.3160 - val_acc: 0.8838\n",
            "Epoch 9/30\n",
            "25000/25000 [==============================] - 120s 5ms/step - loss: 0.1489 - acc: 0.9518 - val_loss: 0.3488 - val_acc: 0.8784\n",
            "Epoch 10/30\n",
            "25000/25000 [==============================] - 120s 5ms/step - loss: 0.1358 - acc: 0.9576 - val_loss: 0.3359 - val_acc: 0.8830\n",
            "Epoch 11/30\n",
            "25000/25000 [==============================] - 120s 5ms/step - loss: 0.1216 - acc: 0.9635 - val_loss: 0.3521 - val_acc: 0.8807\n",
            "Epoch 12/30\n",
            "25000/25000 [==============================] - 121s 5ms/step - loss: 0.1121 - acc: 0.9671 - val_loss: 0.3709 - val_acc: 0.8792\n"
          ],
          "name": "stdout"
        }
      ]
    },
    {
      "metadata": {
        "id": "WIfoShNw9Dvp",
        "colab_type": "code",
        "colab": {
          "base_uri": "https://localhost:8080/",
          "height": 51
        },
        "outputId": "36bdf8d7-a63c-4484-a08a-b1df7025de7e"
      },
      "cell_type": "code",
      "source": [
        "score, accuracy = drop_model.evaluate(\n",
        "    x_test,\n",
        "    y_test,\n",
        "    batch_size=1000\n",
        ")\n",
        "print('test score:', score, ' test accuracy:', accuracy)"
      ],
      "execution_count": 12,
      "outputs": [
        {
          "output_type": "stream",
          "text": [
            "25000/25000 [==============================] - 15s 613us/step\n",
            "test score: 0.3315722143650055  test accuracy: 0.8741999959945679\n"
          ],
          "name": "stdout"
        }
      ]
    },
    {
      "metadata": {
        "id": "3CJtY1EU_T49",
        "colab_type": "code",
        "colab": {
          "base_uri": "https://localhost:8080/",
          "height": 484
        },
        "outputId": "94362cec-4761-40ab-aeca-258827c405d8"
      },
      "cell_type": "code",
      "source": [
        "from matplotlib import pyplot as plt\n",
        "\n",
        "epoch_list = list(range(1, len(drop_train_history.history['acc']) + 1))  # values\n",
        "plt.figure(figsize=(12, 8))\n",
        "plt.plot(epoch_list, drop_train_history.history['acc'], epoch_list, drop_train_history.history['val_acc'])\n",
        "plt.legend(('Training Accuracy', 'Validation Accuracy'))\n",
        "\n",
        "plt.show()"
      ],
      "execution_count": 14,
      "outputs": [
        {
          "output_type": "display_data",
          "data": {
            "image/png": "[encoded data removed]",
            "text/plain": [
              "<matplotlib.figure.Figure at 0x7f76156edeb8>"
            ]
          },
          "metadata": {
            "tags": []
          }
        }
      ]
    },
    {
      "metadata": {
        "id": "I5qzAtLo_eqx",
        "colab_type": "code",
        "colab": {}
      },
      "cell_type": "code",
      "source": [
        ""
      ],
      "execution_count": 0,
      "outputs": []
    }
  ]
}