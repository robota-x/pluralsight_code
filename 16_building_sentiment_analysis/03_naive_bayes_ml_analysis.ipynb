{
 "cells": [
  {
   "cell_type": "code",
   "execution_count": 1,
   "metadata": {},
   "outputs": [],
   "source": [
    "# Import dependencies"
   ]
  },
  {
   "cell_type": "code",
   "execution_count": 24,
   "metadata": {},
   "outputs": [],
   "source": [
    "from nltk import NaiveBayesClassifier\n",
    "from nltk.classify import apply_features"
   ]
  },
  {
   "cell_type": "code",
   "execution_count": 3,
   "metadata": {},
   "outputs": [],
   "source": [
    "# Data import"
   ]
  },
  {
   "cell_type": "code",
   "execution_count": 4,
   "metadata": {},
   "outputs": [
    {
     "name": "stdout",
     "output_type": "stream",
     "text": [
      "['the rock is destined to be the 21st century\\'s new \" conan \" and that he\\'s going to make a splash even greater than arnold schwarzenegger , jean-claud van damme or steven segal . \\n', 'the gorgeously elaborate continuation of \" the lord of the rings \" trilogy is so huge that a column of words cannot adequately describe co-writer/director peter jackson\\'s expanded vision of j . r . r . tolkien\\'s middle-earth . \\n', 'effective but too-tepid biopic\\n'] ['simplistic , silly and tedious . \\n', \"it's so laddish and juvenile , only teenage boys could possibly find it funny . \\n\", 'exploitative and largely devoid of the depth or sophistication that would make watching such a graphic treatment of the crimes bearable . \\n']\n"
     ]
    }
   ],
   "source": [
    "with open('data/rt-polarity.pos', encoding='latin-1') as positive_file:\n",
    "    positive_reviews = positive_file.readlines()\n",
    "    \n",
    "with open('data/rt-polarity.neg', encoding='latin-1') as negative_file:\n",
    "    negative_reviews = negative_file.readlines()\n",
    "\n",
    "print(positive_reviews[:3], negative_reviews[:3])"
   ]
  },
  {
   "cell_type": "code",
   "execution_count": 5,
   "metadata": {},
   "outputs": [],
   "source": [
    "# Split into a training set"
   ]
  },
  {
   "cell_type": "code",
   "execution_count": 9,
   "metadata": {},
   "outputs": [],
   "source": [
    "train_ratio = round(len(positive_reviews) * 0.7)\n",
    "\n",
    "train_positive_reviews = positive_reviews[:train_ratio]\n",
    "train_negative_reviews = negative_reviews[:train_ratio]\n",
    "\n",
    "test_positive_reviews = positive_reviews[train_ratio:]\n",
    "test_negative_reviews = negative_reviews[train_ratio:]\n",
    "\n",
    "train_vocabulary = set([word for phrase in train_positive_reviews + train_negative_reviews for word in phrase.split()])"
   ]
  },
  {
   "cell_type": "code",
   "execution_count": 12,
   "metadata": {},
   "outputs": [],
   "source": [
    "# Manipulate data into acceptable format"
   ]
  },
  {
   "cell_type": "code",
   "execution_count": 18,
   "metadata": {},
   "outputs": [],
   "source": [
    "def get_tagged_tuple(line, sentiment):\n",
    "    return (line.split(), sentiment)\n",
    "\n",
    "train_data = [get_tagged_tuple(line, 'positive') for line in train_positive_reviews] \\\n",
    "           + [get_tagged_tuple(line, 'negative') for line in train_negative_reviews]"
   ]
  },
  {
   "cell_type": "code",
   "execution_count": 25,
   "metadata": {},
   "outputs": [],
   "source": [
    "# Create a feature extraction callback and helpers"
   ]
  },
  {
   "cell_type": "code",
   "execution_count": 39,
   "metadata": {},
   "outputs": [],
   "source": [
    "def feature_extractor(review):\n",
    "    review_set = set(review)\n",
    "    return {word: word in review_set for word in train_vocabulary}\n",
    "\n",
    "def classify_review(review, classifier):\n",
    "    prepared_review = feature_extractor(review.split())\n",
    "    return classifier.classify(prepared_review)"
   ]
  },
  {
   "cell_type": "code",
   "execution_count": 29,
   "metadata": {},
   "outputs": [],
   "source": [
    "# Train model"
   ]
  },
  {
   "cell_type": "code",
   "execution_count": 31,
   "metadata": {},
   "outputs": [],
   "source": [
    "training_features = apply_features(feature_extractor, train_data)\n",
    "classifier = NaiveBayesClassifier.train(training_features) # long, 2-5 minutes"
   ]
  },
  {
   "cell_type": "code",
   "execution_count": 47,
   "metadata": {},
   "outputs": [
    {
     "name": "stdout",
     "output_type": "stream",
     "text": [
      "positive  . . . fuses the events of her life with the imagery in her paintings so vividly that the artist's work may take on a striking new significance for anyone who sees the film . \n",
      "\n"
     ]
    }
   ],
   "source": [
    "print(classify_review(test_positive_reviews[10], classifier), test_positive_reviews[10])"
   ]
  },
  {
   "cell_type": "code",
   "execution_count": 49,
   "metadata": {},
   "outputs": [],
   "source": [
    "# Accuracy scoring"
   ]
  },
  {
   "cell_type": "code",
   "execution_count": 56,
   "metadata": {},
   "outputs": [
    {
     "name": "stdout",
     "output_type": "stream",
     "text": [
      "0.7498436522826767\n",
      "0.7792370231394622\n"
     ]
    }
   ],
   "source": [
    "positive_accuracy = len([True for review in test_positive_reviews if classify_review(review, classifier) == 'positive']) / len(test_positive_reviews)\n",
    "negative_accuracy = len([True for review in test_negative_reviews if classify_review(review, classifier) == 'negative']) / len(test_negative_reviews)\n",
    "\n",
    "print(positive_accuracy)\n",
    "print(negative_accuracy)\n"
   ]
  },
  {
   "cell_type": "code",
   "execution_count": 57,
   "metadata": {},
   "outputs": [],
   "source": [
    "# Save the trained classifier"
   ]
  },
  {
   "cell_type": "code",
   "execution_count": 58,
   "metadata": {},
   "outputs": [],
   "source": [
    "import pickle\n",
    "\n",
    "with open('naive_classifier.pickle', 'wb') as file:\n",
    "    pickle.dump(classifier, file)"
   ]
  },
  {
   "cell_type": "code",
   "execution_count": null,
   "metadata": {},
   "outputs": [],
   "source": []
  }
 ],
 "metadata": {
  "kernelspec": {
   "display_name": "Python 3",
   "language": "python",
   "name": "python3"
  },
  "language_info": {
   "codemirror_mode": {
    "name": "ipython",
    "version": 3
   },
   "file_extension": ".py",
   "mimetype": "text/x-python",
   "name": "python",
   "nbconvert_exporter": "python",
   "pygments_lexer": "ipython3",
   "version": "3.6.3"
  }
 },
 "nbformat": 4,
 "nbformat_minor": 2
}
