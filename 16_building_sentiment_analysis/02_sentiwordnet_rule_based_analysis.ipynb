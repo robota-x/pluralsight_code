{
 "cells": [
  {
   "cell_type": "code",
   "execution_count": 1,
   "metadata": {},
   "outputs": [],
   "source": [
    "# Import dependencies"
   ]
  },
  {
   "cell_type": "code",
   "execution_count": 2,
   "metadata": {},
   "outputs": [],
   "source": [
    "import operator\n",
    "\n",
    "\n",
    "from nltk.corpus import stopwords, sentiwordnet as swn  # requires nltk.download('vader_lexicon'), nltk.download('wordnet') and nltk.download('stopwords')\n",
    "from string import punctuation"
   ]
  },
  {
   "cell_type": "code",
   "execution_count": 3,
   "metadata": {},
   "outputs": [],
   "source": [
    "# Data import"
   ]
  },
  {
   "cell_type": "code",
   "execution_count": 4,
   "metadata": {},
   "outputs": [
    {
     "name": "stdout",
     "output_type": "stream",
     "text": [
      "['the rock is destined to be the 21st century\\'s new \" conan \" and that he\\'s going to make a splash even greater than arnold schwarzenegger , jean-claud van damme or steven segal . \\n', 'the gorgeously elaborate continuation of \" the lord of the rings \" trilogy is so huge that a column of words cannot adequately describe co-writer/director peter jackson\\'s expanded vision of j . r . r . tolkien\\'s middle-earth . \\n', 'effective but too-tepid biopic\\n'] ['simplistic , silly and tedious . \\n', \"it's so laddish and juvenile , only teenage boys could possibly find it funny . \\n\", 'exploitative and largely devoid of the depth or sophistication that would make watching such a graphic treatment of the crimes bearable . \\n']\n"
     ]
    }
   ],
   "source": [
    "with open('data/rt-polarity.pos', encoding='latin-1') as positive_file:\n",
    "    positive_reviews = positive_file.readlines()\n",
    "    \n",
    "with open('data/rt-polarity.neg', encoding='latin-1') as negative_file:\n",
    "    negative_reviews = negative_file.readlines()\n",
    "\n",
    "print(positive_reviews[:3], negative_reviews[:3])"
   ]
  },
  {
   "cell_type": "code",
   "execution_count": 5,
   "metadata": {},
   "outputs": [],
   "source": [
    "# Naive classifier"
   ]
  },
  {
   "cell_type": "code",
   "execution_count": 6,
   "metadata": {},
   "outputs": [],
   "source": [
    "def naive_score(word):\n",
    "    meaning = next(swn.senti_synsets(word), None)  # grab the most common meaning\n",
    "    return meaning.pos_score() - meaning.neg_score() if meaning else 0\n",
    "    \n",
    "def naive_classifier(sentence):\n",
    "    word_list = sentence.lower().split()\n",
    "    return sum(naive_score(word) for word in word_list)\n",
    "\n",
    "# helpers\n",
    "def get_accuracy(score_list, comparator):\n",
    "    return len([x for x in score_list if comparator(x, 0)]) / len(score_list)\n",
    "\n",
    "def get_highest_n(reviews, scoring_function=naive_classifier, n=10):\n",
    "    scored_reviews = ((scoring_function(review), review) for review in reviews)\n",
    "    return sorted(scored_reviews, key=lambda x: x[0], reverse=True)[:n]"
   ]
  },
  {
   "cell_type": "code",
   "execution_count": 7,
   "metadata": {},
   "outputs": [
    {
     "name": "stdout",
     "output_type": "stream",
     "text": [
      "[1.25, 0.75, 0.125, 1.125, 1.125]\n",
      "[-0.375, 1.0, -1.0, 0.125, -1.125]\n"
     ]
    }
   ],
   "source": [
    "positive_review_scores = [naive_classifier(review) for review in positive_reviews]\n",
    "negative_review_scores = [naive_classifier(review) for review in negative_reviews]\n",
    "\n",
    "print(positive_review_scores[:5])\n",
    "print(negative_review_scores[:5])"
   ]
  },
  {
   "cell_type": "code",
   "execution_count": 8,
   "metadata": {},
   "outputs": [
    {
     "name": "stdout",
     "output_type": "stream",
     "text": [
      "0.639654848996436\n",
      "0.43275182892515474\n"
     ]
    }
   ],
   "source": [
    "print(get_accuracy(positive_review_scores, operator.gt))\n",
    "print(get_accuracy(negative_review_scores, operator.lt))"
   ]
  },
  {
   "cell_type": "code",
   "execution_count": 9,
   "metadata": {},
   "outputs": [
    {
     "name": "stdout",
     "output_type": "stream",
     "text": [
      "(3.0, \"it's frustrating to see these guys -- who are obviously pretty clever -- waste their talent on parodies of things they probably thought were funniest when they were high . \\n\")\n",
      "(3.0, 'a film that will be best appreciated by those willing to endure its extremely languorous rhythms , waiting for happiness is ultimately thoughtful without having much dramatic impact . \\n')\n",
      "(3.0, 'the movie is so resolutely cobbled together out of older movies that it even uses a totally unnecessary prologue , just because it seems obligatory . \\n')\n",
      "(2.875, 'this dramatically shaky contest of wills only reiterates the old hollywood saw : evil is interesting and good is boring . \\n')\n",
      "(2.875, \"the plot's clearly mythic structure may owe more to disney's strong sense of formula than to the original story . but while the highly predictable narrative falls short , treasure planet is truly gorgeous to behold . \\n\")\n",
      "(2.75, 'i wish windtalkers had had more faith in the dramatic potential of this true story . this would have been better than the fiction it has concocted , and there still could have been room for the war scenes . \\n')\n",
      "(2.75, 'twenty years later , reggio still knows how to make a point with poetic imagery , but his ability to startle has been stifled by the very prevalence of the fast-forward technology that he so stringently takes to task . \\n')\n",
      "(2.75, \"like a grinning jack o' lantern , its apparent glee is derived from a lobotomy , having had all its vital essence scooped out and discarded . \\n\")\n",
      "(2.625, \"it's just weirdness for the sake of weirdness , and where human nature should be ingratiating , it's just grating . \\n\")\n",
      "(2.5, \"a 94-minute travesty of unparalleled proportions , writer-director parker seems to go out of his way to turn the legendary wit's classic mistaken identity farce into brutally labored and unfunny hokum . \\n\")\n"
     ]
    }
   ],
   "source": [
    "for review in get_highest_n(negative_reviews):\n",
    "    print(review)"
   ]
  },
  {
   "cell_type": "code",
   "execution_count": 10,
   "metadata": {},
   "outputs": [],
   "source": [
    "# (Not) Improved classifier: no stopwords, consider all meanings"
   ]
  },
  {
   "cell_type": "code",
   "execution_count": 11,
   "metadata": {},
   "outputs": [],
   "source": [
    "def improved_score(word):\n",
    "    return sum(meaning.pos_score() - meaning.neg_score() for meaning in swn.senti_synsets(word))\n",
    "    \n",
    "def improved_classifier(sentence, blacklist):\n",
    "    word_list = sentence.lower().split()\n",
    "    return sum(naive_score(word) for word in word_list if word not in blacklist)"
   ]
  },
  {
   "cell_type": "code",
   "execution_count": 12,
   "metadata": {},
   "outputs": [],
   "source": [
    "blacklist = set(stopwords.words('english') + list(punctuation))"
   ]
  },
  {
   "cell_type": "code",
   "execution_count": 13,
   "metadata": {},
   "outputs": [
    {
     "name": "stdout",
     "output_type": "stream",
     "text": [
      "[1.125, 0.625, 0.125, 1.0, 1.25]\n",
      "[-0.375, 1.0, -0.875, 0.125, -1.125]\n"
     ]
    }
   ],
   "source": [
    "improved_positive_review_scores = [improved_classifier(review, blacklist) for review in positive_reviews]\n",
    "improved_negative_review_scores = [improved_classifier(review, blacklist) for review in negative_reviews]\n",
    "\n",
    "print(improved_positive_review_scores[:5])\n",
    "print(improved_negative_review_scores[:5])"
   ]
  },
  {
   "cell_type": "code",
   "execution_count": 14,
   "metadata": {},
   "outputs": [
    {
     "name": "stdout",
     "output_type": "stream",
     "text": [
      "0.6430313262052147\n",
      "0.4211217407615832\n"
     ]
    }
   ],
   "source": [
    "print(get_accuracy(improved_positive_review_scores, operator.gt))\n",
    "print(get_accuracy(improved_negative_review_scores, operator.lt))\n",
    "# this was not really a good idea..."
   ]
  }
 ],
 "metadata": {
  "kernelspec": {
   "display_name": "Python 3",
   "language": "python",
   "name": "python3"
  },
  "language_info": {
   "codemirror_mode": {
    "name": "ipython",
    "version": 3
   },
   "file_extension": ".py",
   "mimetype": "text/x-python",
   "name": "python",
   "nbconvert_exporter": "python",
   "pygments_lexer": "ipython3",
   "version": "3.6.4"
  }
 },
 "nbformat": 4,
 "nbformat_minor": 2
}
