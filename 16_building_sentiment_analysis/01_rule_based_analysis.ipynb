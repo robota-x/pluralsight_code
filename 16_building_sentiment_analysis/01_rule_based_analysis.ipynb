{
 "cells": [
  {
   "cell_type": "code",
   "execution_count": 1,
   "metadata": {},
   "outputs": [],
   "source": [
    "# Initialise analyzer and demo"
   ]
  },
  {
   "cell_type": "code",
   "execution_count": 2,
   "metadata": {},
   "outputs": [],
   "source": [
    "from nltk.sentiment import vader"
   ]
  },
  {
   "cell_type": "code",
   "execution_count": 4,
   "metadata": {},
   "outputs": [],
   "source": [
    "si_analyzer = vader.SentimentIntensityAnalyzer()  # requires nltk.download('vader_lexicon')"
   ]
  },
  {
   "cell_type": "code",
   "execution_count": 5,
   "metadata": {},
   "outputs": [
    {
     "name": "stdout",
     "output_type": "stream",
     "text": [
      "{'neg': 0.0, 'neu': 0.0, 'pos': 1.0, 'compound': 0.5106}\n",
      "{'neg': 1.0, 'neu': 0.0, 'pos': 0.0, 'compound': -0.34}\n",
      "{'neg': 0.0, 'neu': 0.286, 'pos': 0.714, 'compound': 0.3612}\n",
      "{'neg': 0.0, 'neu': 0.417, 'pos': 0.583, 'compound': 0.4201}\n",
      "{'neg': 0.4, 'neu': 0.435, 'pos': 0.165, 'compound': -0.5724}\n",
      "{'neg': 0.434, 'neu': 0.43, 'pos': 0.136, 'compound': -0.7313}\n",
      "{'neg': 0.0, 'neu': 0.519, 'pos': 0.481, 'compound': 0.6768}\n",
      "{'neg': 0.334, 'neu': 0.392, 'pos': 0.274, 'compound': -0.1548}\n"
     ]
    }
   ],
   "source": [
    "test_strings = [\n",
    "    ':D',\n",
    "    ':/',\n",
    "    'I like you',\n",
    "    'I really like you',\n",
    "    'I really like you but you are stupid',\n",
    "    'I really like you but you are so stupid',\n",
    "    'I really like you but you are not stupid',\n",
    "    'I really like you, you are stupid',\n",
    "]\n",
    "for statement in test_strings:\n",
    "    print(si_analyzer.polarity_scores(statement))"
   ]
  },
  {
   "cell_type": "code",
   "execution_count": 11,
   "metadata": {},
   "outputs": [],
   "source": [
    "# Data import"
   ]
  },
  {
   "cell_type": "code",
   "execution_count": 31,
   "metadata": {},
   "outputs": [
    {
     "name": "stdout",
     "output_type": "stream",
     "text": [
      "['the rock is destined to be the 21st century\\'s new \" conan \" and that he\\'s going to make a splash even greater than arnold schwarzenegger , jean-claud van damme or steven segal . \\n', 'the gorgeously elaborate continuation of \" the lord of the rings \" trilogy is so huge that a column of words cannot adequately describe co-writer/director peter jackson\\'s expanded vision of j . r . r . tolkien\\'s middle-earth . \\n', 'effective but too-tepid biopic\\n'] ['simplistic , silly and tedious . \\n', \"it's so laddish and juvenile , only teenage boys could possibly find it funny . \\n\", 'exploitative and largely devoid of the depth or sophistication that would make watching such a graphic treatment of the crimes bearable . \\n']\n"
     ]
    }
   ],
   "source": [
    "with open('data/rt-polarity.pos', encoding='latin-1') as positive_file:\n",
    "    positive_reviews = positive_file.readlines()\n",
    "    \n",
    "with open('data/rt-polarity.neg', encoding='latin-1') as negative_file:\n",
    "    negative_reviews = negative_file.readlines()\n",
    "\n",
    "print(positive_reviews[:3], negative_reviews[:3])"
   ]
  },
  {
   "cell_type": "code",
   "execution_count": 35,
   "metadata": {},
   "outputs": [],
   "source": [
    "# Helper functions"
   ]
  },
  {
   "cell_type": "code",
   "execution_count": 36,
   "metadata": {},
   "outputs": [],
   "source": [
    "def get_sentiment(statement):\n",
    "    return si_analyzer.polarity_scores(statement)['compound']\n",
    "\n",
    "def get_accuracy(score_list, operator): # terrible but fun you can pass an operator\n",
    "    return len([x for x in score_list if operator(x, 0)]) / len(score_list)"
   ]
  },
  {
   "cell_type": "code",
   "execution_count": 37,
   "metadata": {},
   "outputs": [],
   "source": [
    "positive_review_scores = [get_sentiment(review) for review in positive_reviews]\n",
    "negative_review_scores = [get_sentiment(review) for review in negative_reviews]"
   ]
  },
  {
   "cell_type": "code",
   "execution_count": 40,
   "metadata": {},
   "outputs": [
    {
     "name": "stdout",
     "output_type": "stream",
     "text": [
      "0.6946163946726693\n",
      "0.40105045957606456\n"
     ]
    }
   ],
   "source": [
    "import operator\n",
    "print(get_accuracy(positive_review_scores, operator.gt))\n",
    "print(get_accuracy(negative_review_scores, operator.lt))"
   ]
  },
  {
   "cell_type": "code",
   "execution_count": null,
   "metadata": {},
   "outputs": [],
   "source": []
  }
 ],
 "metadata": {
  "kernelspec": {
   "display_name": "Python 3",
   "language": "python",
   "name": "python3"
  },
  "language_info": {
   "codemirror_mode": {
    "name": "ipython",
    "version": 3
   },
   "file_extension": ".py",
   "mimetype": "text/x-python",
   "name": "python",
   "nbconvert_exporter": "python",
   "pygments_lexer": "ipython3",
   "version": "3.6.4"
  }
 },
 "nbformat": 4,
 "nbformat_minor": 2
}
