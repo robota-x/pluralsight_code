{
 "cells": [
  {
   "cell_type": "code",
   "execution_count": 1,
   "metadata": {},
   "outputs": [],
   "source": [
    "# Initialise analyzer and demo"
   ]
  },
  {
   "cell_type": "code",
   "execution_count": 2,
   "metadata": {},
   "outputs": [],
   "source": [
    "from nltk.sentiment import vader"
   ]
  },
  {
   "cell_type": "code",
   "execution_count": 3,
   "metadata": {},
   "outputs": [],
   "source": [
    "si_analyzer = vader.SentimentIntensityAnalyzer()  # requires nltk.download('vader_lexicon')"
   ]
  },
  {
   "cell_type": "code",
   "execution_count": 4,
   "metadata": {},
   "outputs": [
    {
     "name": "stdout",
     "output_type": "stream",
     "text": [
      "{'neg': 0.0, 'neu': 0.0, 'pos': 1.0, 'compound': 0.5106}\n",
      "{'neg': 1.0, 'neu': 0.0, 'pos': 0.0, 'compound': -0.34}\n",
      "{'neg': 0.0, 'neu': 0.286, 'pos': 0.714, 'compound': 0.3612}\n",
      "{'neg': 0.0, 'neu': 0.417, 'pos': 0.583, 'compound': 0.4201}\n",
      "{'neg': 0.4, 'neu': 0.435, 'pos': 0.165, 'compound': -0.5724}\n",
      "{'neg': 0.434, 'neu': 0.43, 'pos': 0.136, 'compound': -0.7313}\n",
      "{'neg': 0.0, 'neu': 0.519, 'pos': 0.481, 'compound': 0.6768}\n",
      "{'neg': 0.334, 'neu': 0.392, 'pos': 0.274, 'compound': -0.1548}\n"
     ]
    }
   ],
   "source": [
    "test_strings = [\n",
    "    ':D',\n",
    "    ':/',\n",
    "    'I like you',\n",
    "    'I really like you',\n",
    "    'I really like you but you are stupid',\n",
    "    'I really like you but you are so stupid',\n",
    "    'I really like you but you are not stupid',\n",
    "    'I really like you, you are stupid',\n",
    "]\n",
    "for statement in test_strings:\n",
    "    print(si_analyzer.polarity_scores(statement))"
   ]
  },
  {
   "cell_type": "code",
   "execution_count": 5,
   "metadata": {},
   "outputs": [],
   "source": [
    "# Data import"
   ]
  },
  {
   "cell_type": "code",
   "execution_count": 6,
   "metadata": {},
   "outputs": [
    {
     "name": "stdout",
     "output_type": "stream",
     "text": [
      "['the rock is destined to be the 21st century\\'s new \" conan \" and that he\\'s going to make a splash even greater than arnold schwarzenegger , jean-claud van damme or steven segal . \\n', 'the gorgeously elaborate continuation of \" the lord of the rings \" trilogy is so huge that a column of words cannot adequately describe co-writer/director peter jackson\\'s expanded vision of j . r . r . tolkien\\'s middle-earth . \\n', 'effective but too-tepid biopic\\n'] ['simplistic , silly and tedious . \\n', \"it's so laddish and juvenile , only teenage boys could possibly find it funny . \\n\", 'exploitative and largely devoid of the depth or sophistication that would make watching such a graphic treatment of the crimes bearable . \\n']\n"
     ]
    }
   ],
   "source": [
    "with open('data/rt-polarity.pos', encoding='latin-1') as positive_file:\n",
    "    positive_reviews = positive_file.readlines()\n",
    "    \n",
    "with open('data/rt-polarity.neg', encoding='latin-1') as negative_file:\n",
    "    negative_reviews = negative_file.readlines()\n",
    "\n",
    "print(positive_reviews[:3], negative_reviews[:3])"
   ]
  },
  {
   "cell_type": "code",
   "execution_count": 7,
   "metadata": {},
   "outputs": [],
   "source": [
    "# Helper functions and some testing"
   ]
  },
  {
   "cell_type": "code",
   "execution_count": 8,
   "metadata": {},
   "outputs": [],
   "source": [
    "def get_sentiment(statement):\n",
    "    return si_analyzer.polarity_scores(statement)['compound']\n",
    "\n",
    "def get_accuracy(score_list, operator): # terrible but fun you can pass an operator\n",
    "    return len([x for x in score_list if operator(x, 0)]) / len(score_list)"
   ]
  },
  {
   "cell_type": "code",
   "execution_count": 9,
   "metadata": {},
   "outputs": [],
   "source": [
    "positive_review_scores = [get_sentiment(review) for review in positive_reviews]\n",
    "negative_review_scores = [get_sentiment(review) for review in negative_reviews]"
   ]
  },
  {
   "cell_type": "code",
   "execution_count": 10,
   "metadata": {},
   "outputs": [
    {
     "name": "stdout",
     "output_type": "stream",
     "text": [
      "0.6946163946726693\n",
      "0.40105045957606456\n"
     ]
    }
   ],
   "source": [
    "import operator\n",
    "print(get_accuracy(positive_review_scores, operator.gt))\n",
    "print(get_accuracy(negative_review_scores, operator.lt))"
   ]
  },
  {
   "cell_type": "code",
   "execution_count": 11,
   "metadata": {},
   "outputs": [
    {
     "name": "stdout",
     "output_type": "stream",
     "text": [
      "(0.9674, \"it's inoffensive , cheerful , built to inspire the young people , set to an unending soundtrack of beach party pop numbers and aside from its remarkable camerawork and awesome scenery , it's about as exciting as a sunburn . \\n\")\n",
      "(0.9511, \"the plot's clearly mythic structure may owe more to disney's strong sense of formula than to the original story . but while the highly predictable narrative falls short , treasure planet is truly gorgeous to behold . \\n\")\n",
      "(0.9501, 'the makers of divine secrets of the ya-ya sisterhood should offer a free ticket ( second prize , of course , two free tickets ) to anyone who can locate a genuinely honest moment in their movie . \\n')\n",
      "(0.9431, 'but buying into sham truths and routine \" indie \" filmmaking , freundlich has made just another safe movie . it\\'s not horrible , just horribly mediocre . \\n')\n",
      "(0.9403, \"it's mindless junk like this that makes you appreciate original romantic comedies like punch-drunk love . \\n\")\n",
      "(0.9398, \"the messages of compassion and mercy are clearly , squarely and specifically expounded via computer animated old testament tale of jonah and the whale . determined to be fun , and bouncy , with energetic musicals , the humor didn't quite engage this adult . \\n\")\n",
      "(0.9393, \"what's really sad is to see two academy award winning actresses ( and one academy award winning actor ) succumb to appearing in this junk that's tv sitcom material at best . \\n\")\n",
      "(0.9382, 'it feels like a community theater production of a great broadway play : even at its best , it will never hold a candle to the original . \\n')\n",
      "(0.9335, 'the animation is competent , and some of the gags are quite funny , but jonah . . . never shakes the oppressive , morally superior good-for-you quality that almost automatically accompanies didactic entertainment . \\n')\n",
      "(0.9287, 'a film that will be best appreciated by those willing to endure its extremely languorous rhythms , waiting for happiness is ultimately thoughtful without having much dramatic impact . \\n')\n"
     ]
    }
   ],
   "source": [
    "def get_highest_n(reviews, scoring_function=get_sentiment, n=10):\n",
    "    scored_reviews = ((scoring_function(review), review) for review in reviews)\n",
    "    return sorted(scored_reviews, key=lambda x: x[0], reverse=True)[:n]\n",
    "\n",
    "for review in get_highest_n(negative_reviews):\n",
    "    print(review)"
   ]
  }
 ],
 "metadata": {
  "kernelspec": {
   "display_name": "Python 3",
   "language": "python",
   "name": "python3"
  },
  "language_info": {
   "codemirror_mode": {
    "name": "ipython",
    "version": 3
   },
   "file_extension": ".py",
   "mimetype": "text/x-python",
   "name": "python",
   "nbconvert_exporter": "python",
   "pygments_lexer": "ipython3",
   "version": "3.6.4"
  }
 },
 "nbformat": 4,
 "nbformat_minor": 2
}
