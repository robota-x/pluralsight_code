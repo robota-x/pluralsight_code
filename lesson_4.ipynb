{
 "cells": [
  {
   "cell_type": "code",
   "execution_count": 401,
   "metadata": {},
   "outputs": [],
   "source": [
    "# article retrieval\n",
    "import requests\n",
    "from bs4 import BeautifulSoup"
   ]
  },
  {
   "cell_type": "code",
   "execution_count": 402,
   "metadata": {},
   "outputs": [],
   "source": [
    "url_list = [\n",
    "    'https://arstechnica.com/',\n",
    "    'https://arstechnica.com/page/2/',\n",
    "    'https://arstechnica.com/page/3/',\n",
    "    'https://arstechnica.com/page/4/',\n",
    "    'https://arstechnica.com/page/5/',\n",
    "]"
   ]
  },
  {
   "cell_type": "code",
   "execution_count": 403,
   "metadata": {},
   "outputs": [],
   "source": [
    "# TODO: use scrapy instead\n",
    "def retrieve_parsed_page(url):\n",
    "    page_text = requests.get(url).text\n",
    "    return BeautifulSoup(page_text, 'lxml')\n",
    "\n",
    "def get_article_links(parsed_page):\n",
    "    anchor_list = parsed_page.select('h2 a')\n",
    "    return [a['href'] for a in anchor_list]\n",
    "\n",
    "def get_article_text(parsed_page):\n",
    "    page_paragraphs = parsed_page.find('section', {'class': 'article-guts'}).findAll('p')\n",
    "    paragraph_text = [paragraph.text for paragraph in page_paragraphs]\n",
    "    return '\\n'.join(paragraph_text)"
   ]
  },
  {
   "cell_type": "code",
   "execution_count": 407,
   "metadata": {},
   "outputs": [
    {
     "name": "stdout",
     "output_type": "stream",
     "text": [
      "starting parse of 155\n",
      "retrieving article: https://arstechnica.com/gadgets/2017/12/guidemaster-everything-amazons-alexa-can-do-plus-the-best-skills-to-enable/\n",
      "retrieving article: https://arstechnica.com/gaming/2017/12/ars-technicas-best-video-games-of-2017/\n",
      "retrieving article: https://arstechnica.com/gaming/2017/12/hello-neighbor-review-an-all-around-bad-time-in-surreal-suburbia/\n",
      "retrieving article: https://arstechnica.com/cars/2017/12/elon-musk-promises-rain-sensing-wipers-tesla-pickup-truck/\n",
      "retrieving article: https://arstechnica.com/science/2017/12/9-himalayan-yeti-samples-turn-out-to-be-bears-dog/\n",
      "retrieving article: https://arstechnica.com/tech-policy/2017/12/library-of-congress-to-get-selective-about-the-tweets-it-keeps/\n",
      "retrieving article: https://arstechnica.com/information-technology/2017/12/mozilla-squashes-critical-thunderbird-bug/\n",
      "retrieving article: https://arstechnica.com/gaming/2017/12/big-titles-must-wait-as-nintendo-pushes-back-64gb-switch-game-card-rollout/\n",
      "retrieving article: https://arstechnica.com/tech-policy/2017/12/these-experts-figured-out-why-so-many-bogus-patents-get-approved/\n",
      "retrieving article: https://arstechnica.com/gadgets/2017/12/whatsapp-to-drop-blackberry-windows-phone-8-0-support-after-new-years-eve/\n",
      "retrieving article: https://arstechnica.com/gaming/2017/12/nerdy-films-in-2017-ars-picks-the-years-best-and-most-beautiful/\n",
      "retrieving article: https://arstechnica.com/gadgets/2017/12/dear-silicon-valley-a-sous-vide-is-not-a-slow-cooker/\n",
      "retrieving article: https://arstechnica.com/gaming/2017/12/virtual-realitys-best-experiences-and-biggest-teleportation-steps-in-2017/\n",
      "retrieving article: https://arstechnica.com/gaming/2017/12/lost-destiny-symphonic-album-complete-with-paul-mccartney-has-totally-leaked/\n",
      "retrieving article: https://arstechnica.com/science/2017/12/making-us-agriculture-sustainable-cut-beef-eating-in-half/\n",
      "retrieving article: https://arstechnica.com/science/2017/12/apollo-triumph/\n",
      "retrieving article: https://arstechnica.com/cars/2017/12/driverless-cars-became-a-reality-in-2017-and-hardly-anyone-noticed/\n",
      "retrieving article: https://arstechnica.com/cars/2017/12/2017-behind-the-wheel-our-favorite-cars-of-the-year/\n",
      "retrieving article: https://arstechnica.com/gaming/2017/12/10-excellent-comics-that-flew-under-the-radar-in-2017/\n",
      "retrieving article: https://arstechnica.com/gaming/2017/12/a-christmas-gift-from-game-boy-rom-hackers-super-mario-land-2-in-color/\n",
      "retrieving article: https://arstechnica.com/science/2017/12/where-did-mars-water-go-maybe-into-the-planets-interior/\n",
      "retrieving article: https://arstechnica.com/staff/2017/12/the-most-talked-about-stories-on-ars-technica-in-2017/\n",
      "retrieving article: https://arstechnica.com/gadgets/2017/12/our-favorite-and-least-favorite-tech-of-2017/\n",
      "retrieving article: https://arstechnica.com/staff/2017/12/the-most-popular-stories-of-2017/\n",
      "retrieving article: https://arstechnica.com/science/2017/12/here-are-the-intriguing-toxins-that-spice-up-our-favorite-holiday-dishes/\n",
      "retrieving article: https://arstechnica.com/gaming/2017/12/the-year-in-ars-techni-cky-tv-from-sci-fi-reboots-to-social-media-horror/\n",
      "retrieving article: https://arstechnica.com/tech-policy/2017/12/how-do-you-change-the-most-important-law-in-internet-history-carefully/\n",
      "retrieving article: https://arstechnica.com/science/2017/12/study-says-mantle-motion-not-a-plume-or-hot-spot-made-americas-volcanoes/\n",
      "retrieving article: https://arstechnica.com/information-technology/2017/12/okcupid-begins-enforcing-real-name-rules-insists-its-a-good-idea/\n",
      "retrieving article: https://arstechnica.com/gadgets/2017/12/parents-cant-use-the-iphone-xs-face-id-to-approve-family-purchases/\n",
      "retrieving article: https://arstechnica.com/tech-policy/2017/12/days-after-iphone-battery-fiasco-lawsuits-against-apple-begin-to-mount/\n",
      "retrieving article: https://arstechnica.com/staff/2017/12/dealmaster-get-a-100-itunes-gift-card-for-85/\n",
      "retrieving article: https://arstechnica.com/gadgets/2017/12/nvidia-to-cease-producing-new-drivers-for-32-bit-systems/\n",
      "retrieving article: https://arstechnica.com/tech-policy/2017/12/bitcoin-a-beginners-guide/\n",
      "retrieving article: https://arstechnica.com/science/2017/12/how-google-porn-and-the-birth-of-jesus-may-explain-human-reproduction-cycles/\n",
      "retrieving article: https://arstechnica.com/science/2017/12/video-see-our-full-interview-with-orion-program-manager-mark-kirasich/\n",
      "retrieving article: https://arstechnica.com/cars/2017/12/the-rinspeed-snap-explores-future-proofing-with-a-modular-electric-vehicle/\n",
      "retrieving article: https://arstechnica.com/information-technology/2017/12/georgia-regulators-say-dramatically-over-budget-nuclear-plant-can-move-forward/\n",
      "retrieving article: https://arstechnica.com/tech-policy/2017/12/bitcoins-price-is-down-33-percent-from-highs-earlier-this-week/\n",
      "retrieving article: https://arstechnica.com/tech-policy/2017/12/hotel-charged-guests-350-after-bad-online-reviews-so-indiana-ag-sues/\n",
      "retrieving article: https://arstechnica.com/gaming/2017/12/the-best-board-games-of-2017/\n",
      "retrieving article: https://arstechnica.com/information-technology/2017/12/charter-promises-internet-service-to-family-then-says-itll-cost-16000/\n",
      "retrieving article: https://arstechnica.com/gaming/2017/12/reminder-donate-to-win-swag-in-our-annual-charity-drive-sweepstakes-3/\n",
      "retrieving article: https://arstechnica.com/tech-policy/2017/12/washington-state-comcast-was-even-more-deceptive-than-we-thought/\n",
      "retrieving article: https://arstechnica.com/science/2017/12/there-is-now-a-climate-model-of-the-world-of-game-of-thrones/\n",
      "retrieving article: https://arstechnica.com/information-technology/2017/12/chinese-hackers-go-after-think-tanks-in-wave-of-more-surgical-strikes/\n",
      "retrieving article: https://arstechnica.com/science/2017/12/apollo-triumph/\n",
      "retrieving article: https://arstechnica.com/tech-policy/2017/12/eric-schmidt-will-officially-step-down-as-alphabets-executive-chairman/\n",
      "retrieving article: https://arstechnica.com/gadgets/2017/12/specially-prepared-photos-shown-bypassing-windows-hello-facial-recognition/\n",
      "retrieving article: https://arstechnica.com/gadgets/2017/12/google-fights-fragmentation-new-android-features-to-be-forced-on-apps-in-2018/\n",
      "retrieving article: https://arstechnica.com/gadgets/2017/12/lg-teases-a-monstrous-34-inch-5k-219-monitor-ahead-of-ces/\n",
      "retrieving article: https://arstechnica.com/gaming/2017/12/apple-now-requires-app-store-games-with-loot-boxes-to-list-odds/\n",
      "retrieving article: https://arstechnica.com/gaming/2017/12/the-full-real-actual-civilization-vi-just-came-out-on-ipad/\n",
      "retrieving article: https://arstechnica.com/tech-policy/2017/12/facial-recognition-at-us-airports-becoming-routine-researchers-warn/\n",
      "retrieving article: https://arstechnica.com/cars/2017/12/we-talk-with-bobby-rahal-about-the-new-jaguar-electric-racing-series/\n",
      "retrieving article: https://arstechnica.com/tech-policy/2017/12/comcasts-network-investments-soared-with-net-neutrality-rules-in-place/\n",
      "retrieving article: https://arstechnica.com/gadgets/2017/12/iphones-slow-over-time-to-preserve-battery-life-benchmarks-suggest/\n",
      "retrieving article: https://arstechnica.com/science/2017/12/video-see-our-full-interview-with-apollo-eecom-controller-rod-loe/\n",
      "retrieving article: https://arstechnica.com/gadgets/2017/12/amazon-music-ends-mp3-upload-support-will-end-music-storage-service-in-2019/\n",
      "retrieving article: https://arstechnica.com/information-technology/2017/12/teaching-old-virtual-assistants-new-language-tricks/\n",
      "retrieving article: https://arstechnica.com/gaming/2017/12/an-afternoon-with-lord-british-creating-ultima-onlines-unknown-virtual-ecology/\n",
      "retrieving article: https://arstechnica.com/tech-policy/2017/12/iced-tea-company-stock-triples-after-adding-blockchain-to-name/\n",
      "retrieving article: https://arstechnica.com/science/2017/12/making-molecules-glow-bright-in-a-metal-frame/\n",
      "retrieving article: https://arstechnica.com/tech-policy/2017/12/facebook-sends-ars-takedown-notice-from-pink-floyd-over-nasa-audio/\n",
      "retrieving article: https://arstechnica.com/staff/2017/12/dealmaster-get-a-pair-of-jaybird-wireless-exercise-headphones-for-80/\n",
      "retrieving article: https://arstechnica.com/gadgets/2017/12/apple-has-a-plan-for-universal-apps-across-ios-and-macos-report-says/\n"
     ]
    },
    {
     "name": "stdout",
     "output_type": "stream",
     "text": [
      "retrieving article: https://arstechnica.com/cars/2017/12/driverless-car-from-gms-cruise-and-motorcycle-collide-in-san-francisco/\n",
      "retrieving article: https://arstechnica.com/tech-policy/2017/12/north-korea-suspected-in-latest-bitcoin-heist-bankrupting-youbit-exchange/\n",
      "retrieving article: https://arstechnica.com/gadgets/2017/12/neither-microsoft-nor-google-look-good-in-this-chrome-installer-squabble/\n",
      "retrieving article: https://arstechnica.com/science/2017/12/video-astronaut-scott-kelly-teaches-orbital-mechanics-with-kerbal-space-program/\n",
      "retrieving article: https://arstechnica.com/science/2017/12/interstellar-visitor-might-be-a-comet-covered-in-carbonaceous-crud/\n",
      "retrieving article: https://arstechnica.com/gaming/2017/12/magic-leap-finally-announces-a-headset-but-its-vague-rendered-in-photoshop/\n",
      "retrieving article: https://arstechnica.com/tech-policy/2017/12/new-york-tried-end-run-around-fcc-preemption-with-net-neutrality-law/\n",
      "retrieving article: https://arstechnica.com/gadgets/2017/12/chromes-ad-blocker-goes-live-on-february-15th/\n",
      "retrieving article: https://arstechnica.com/tech-policy/2017/12/top-eu-court-uber-is-just-another-transportation-service/\n",
      "retrieving article: https://arstechnica.com/gadgets/2017/12/revisiting-fossil-hybrid-smartwatches-from-curiosity-to-practicality/\n",
      "retrieving article: https://arstechnica.com/tech-policy/2017/12/bitcoin-rival-bitcoin-cash-soars-as-coinbase-adds-support/\n",
      "retrieving article: https://arstechnica.com/science/2017/12/apollo-triumph/\n",
      "retrieving article: https://arstechnica.com/gaming/2017/12/guerrilla-games-finally-reveals-story-of-legendary-e3-bullshot-in-2005/\n",
      "retrieving article: https://arstechnica.com/tech-policy/2017/12/gop-net-neutrality-bill-would-allow-paid-fast-lanes-and-preempt-state-laws/\n",
      "retrieving article: https://arstechnica.com/gadgets/2017/12/google-brings-a-chrome-installer%e2%89%a5-to-the-microsoft-store/\n",
      "retrieving article: https://arstechnica.com/cars/2017/12/bmw-i-is-how-the-ultimate-driving-machine-is-adapting-to-the-future/\n",
      "retrieving article: https://arstechnica.com/information-technology/2017/12/currency-mining-android-malware-is-so-aggressive-it-can-physically-harm-phones/\n",
      "retrieving article: https://arstechnica.com/tech-policy/2017/12/das-boot-ist-kaputt-german-navy-has-zero-working-subs/\n",
      "retrieving article: https://arstechnica.com/tech-policy/2017/12/microsoft-ends-arbitration-in-sexual-harassment-cases/\n",
      "retrieving article: https://arstechnica.com/gaming/2017/12/facebooks-stance-on-rival-vr-hardware-just-softened-in-a-big-way/\n",
      "retrieving article: https://arstechnica.com/tech-policy/2017/12/trump-administration-formally-blames-north-korea-for-wannacry-now-what/\n",
      "retrieving article: https://arstechnica.com/tech-policy/2017/12/obama-didnt-force-fcc-to-impose-net-neutrality-investigation-found/\n",
      "retrieving article: https://arstechnica.com/tech-policy/2017/12/bitcoin-fees-rising-high/\n",
      "retrieving article: https://arstechnica.com/gadgets/2017/12/facebooks-new-facial-recognition-feature-finds-you-in-untagged-photos/\n",
      "retrieving article: https://arstechnica.com/gaming/2017/12/the-only-thing-more-intricate-than-mr-robots-plot-its-real-world-puzzle/\n",
      "retrieving article: https://arstechnica.com/cars/2017/12/virgin-hyperloop-one-now-faster-than-regular-tgv-but-no-rail-speed-record/\n",
      "retrieving article: https://arstechnica.com/science/2017/12/fda-plans-crackdown-on-quackery-homeopaths-say-bring-it/\n",
      "retrieving article: https://arstechnica.com/gadgets/2017/12/adidas-cuts-digital-fitness-division-putting-its-wearables-in-question/\n",
      "retrieving article: https://arstechnica.com/tech-policy/2017/12/new-york-city-moves-to-create-accountability-for-algorithms/\n",
      "retrieving article: https://arstechnica.com/science/2017/12/apollo-triumph/\n",
      "retrieving article: https://arstechnica.com/information-technology/2017/12/hackers-steal-security-firms-secret-data-in-brazen-domain-hijack/\n",
      "retrieving article: https://arstechnica.com/gaming/2017/12/op-ed-chill-out-everybody-star-wars-has-always-been-for-kids/\n",
      "retrieving article: https://arstechnica.com/cars/2017/12/toyota-not-giving-up-on-fuel-cell-but-now-banking-on-electric-too/\n",
      "retrieving article: https://arstechnica.com/science/2017/12/unruly-antarctica-could-change-sea-level-outlook-without-much-warning/\n",
      "retrieving article: https://arstechnica.com/tech-policy/2017/12/the-celebrity-twitter-battle-over-net-neutrality-star-wars-is-insane/\n",
      "retrieving article: https://arstechnica.com/staff/2017/12/dealmaster-get-a-pair-of-bose-noise-cancelling-headphones-for-150/\n",
      "retrieving article: https://arstechnica.com/tech-policy/2017/12/kaspersky-sues-dhs-over-federal-blacklist/\n",
      "retrieving article: https://arstechnica.com/tech-policy/2017/12/twitter-begins-enforcing-new-anti-hate-speech-rules/\n",
      "retrieving article: https://arstechnica.com/gadgets/2017/12/remarkable-tablet-review-the-high-price-of-getting-that-paper-feeling/\n",
      "retrieving article: https://arstechnica.com/science/2017/12/after-firestorm-cdc-director-says-terms-like-science-based-are-not-banned/\n",
      "retrieving article: https://arstechnica.com/tech-policy/2017/12/there-will-be-a-senate-vote-to-reinstate-net-neutrality-schumer-says/\n",
      "retrieving article: https://arstechnica.com/gadgets/2017/12/facebook-targets-posts-that-beg-for-likes-shares-with-algorithm-update/\n",
      "retrieving article: https://arstechnica.com/science/2017/12/apollo-triumph/\n",
      "retrieving article: https://arstechnica.com/gaming/2017/12/the-last-jedi-broken-down-with-spoilers-opinions-and-more-spoilers/\n",
      "retrieving article: https://arstechnica.com/tech-policy/2017/12/more-haunting-declassified-scans-of-nuclear-weapons-test-videos-released/\n",
      "retrieving article: https://arstechnica.com/science/2017/12/more-studies-examine-role-of-climate-change-in-hurricane-harvey/\n",
      "retrieving article: https://arstechnica.com/science/2017/12/photosynthesis-before-oxygen-may-have-kept-the-early-earth-warm/\n",
      "retrieving article: https://arstechnica.com/gadgets/2017/12/ars-system-guide-december-2017/\n",
      "retrieving article: https://arstechnica.com/tech-policy/2017/12/dr-seuss-and-star-trek-mashup-comic-isnt-fair-use-after-all-judge-says/\n",
      "retrieving article: https://arstechnica.com/tech-policy/2017/12/bitcoin-shrugs-off-bubble-talk-and-surges-past-19000/\n",
      "retrieving article: https://arstechnica.com/science/2017/12/local-roots-farm-in-a-box-coming-to-a-distribution-center-near-you/\n",
      "retrieving article: https://arstechnica.com/science/2017/12/california-heres-how-to-handle-unfounded-fears-of-cell-phone-cancer/\n",
      "retrieving article: https://arstechnica.com/gaming/2017/12/meet-the-legislator-trying-to-do-something-about-video-game-loot-boxes/\n",
      "retrieving article: https://arstechnica.com/cars/2017/12/review-the-stelvio-is-alfa-romeo-to-the-very-core/\n",
      "retrieving article: https://arstechnica.com/tech-policy/2017/12/stealth-turns-40-looking-back-at-the-first-flight-of-have-blue/\n",
      "retrieving article: https://arstechnica.com/tech-policy/2017/12/new-letter-top-uber-officials-engaged-in-illegal-wiretapping-shady-spycraft/\n",
      "retrieving article: https://arstechnica.com/staff/2017/12/dealmaster-get-a-15-inch-dell-laptop-with-a-core-i7-for-580/\n",
      "retrieving article: https://arstechnica.com/information-technology/2017/12/iss-astronauts-will-get-their-own-star-wars-premiere-in-space/\n",
      "retrieving article: https://arstechnica.com/science/2017/12/new-discovery-pushes-star-kepler-90s-menagerie-to-eight-planets/\n",
      "retrieving article: https://arstechnica.com/science/2017/12/nasa-is-trying-to-make-the-space-launch-system-rocket-more-affordable/\n",
      "retrieving article: https://arstechnica.com/gadgets/2017/12/patent-pictures-show-microsoft-is-still-trying-to-build-a-dual-screen-device/\n",
      "retrieving article: https://arstechnica.com/gadgets/2017/12/tango-down-googles-first-ar-project-officially-shuts-down-march-1/\n",
      "retrieving article: https://arstechnica.com/information-technology/2017/12/microsoft-is-forcing-users-to-install-a-critically-flawed-password-manager/\n",
      "retrieving article: https://arstechnica.com/gadgets/2017/12/google-maps-finally-gets-step-by-step-transit-navigation/\n",
      "retrieving article: https://arstechnica.com/information-technology/2017/12/residential-utility-solar-installation-falls-due-to-investment-trends-tesla/\n",
      "retrieving article: https://arstechnica.com/tech-policy/2017/12/comcast-to-be-unleashed-on-rivals-when-nbc-merger-conditions-expire/\n"
     ]
    },
    {
     "name": "stdout",
     "output_type": "stream",
     "text": [
      "retrieving article: https://arstechnica.com/gadgets/2017/12/youtube-launched-a-vr-app-on-steam-but-its-broken/\n",
      "retrieving article: https://arstechnica.com/tech-policy/2017/12/feds-charge-new-york-woman-with-sending-bitcoins-to-support-isis/\n",
      "retrieving article: https://arstechnica.com/gaming/2017/12/sorry-playerunknown-you-probably-cant-stop-battlegrounds-copycats/\n",
      "retrieving article: https://arstechnica.com/science/2017/12/who-report-data-on-marijuana-compound-does-not-justify-dea-scheduling/\n",
      "retrieving article: https://arstechnica.com/gadgets/2017/12/alphabet-wants-to-deliver-internet-access-via-laser-beams/\n",
      "retrieving article: https://arstechnica.com/gaming/2017/12/a-toy-story-for-nerds-like-us-netflixs-the-toys-that-made-us-doc-drops-next-week/\n",
      "retrieving article: https://arstechnica.com/gaming/2017/12/its-happening-aliens-are-shooting-up-human-space-stations-in-elite-dangerous/\n",
      "retrieving article: https://arstechnica.com/science/2017/12/apollo-triumph/\n",
      "retrieving article: https://arstechnica.com/science/2017/12/watch-live-spacex-goes-for-its-17th-launch-of-2017/\n",
      "retrieving article: https://arstechnica.com/science/2017/12/teaser-coming-next-tuesday-our-apollo-celebration-lands-on-the-moon/\n",
      "retrieving article: https://arstechnica.com/science/2017/12/video-see-our-full-interview-with-eva-flight-controller-grier-wilt/\n",
      "retrieving article: https://arstechnica.com/tech-policy/2017/12/how-bitcoin-works/\n",
      "retrieving article: https://arstechnica.com/gaming/2017/12/aol-instant-messenger-is-no-more-but-the-memories-will-last-forever/\n",
      "retrieving article: https://arstechnica.com/tech-policy/2017/12/feds-moving-quickly-to-cash-in-on-seized-bitcoin-now-worth-8-4-million/\n",
      "retrieving article: https://arstechnica.com/gadgets/2017/12/the-2017-ars-technica-gadget-gift-guide-power-user-edition/\n",
      "retrieving article: https://arstechnica.com/tech-policy/2017/12/state-attorneys-general-line-up-to-sue-fcc-over-net-neutrality-repeal/\n",
      "retrieving article: https://arstechnica.com/tech-policy/2017/12/dod-shows-components-proving-iran-provided-missiles-fired-at-saudi-arabia/\n",
      "retrieving article: https://arstechnica.com/information-technology/2017/12/game-changing-attack-on-critical-infrastructure-site-causes-outage/\n",
      "retrieving article: https://arstechnica.com/tech-policy/2017/12/after-outcry-non-profit-stops-use-of-security-robot-to-oust-homeless/\n",
      "retrieving article: https://arstechnica.com/tech-policy/2017/12/goodbye-net-neutrality-ajit-pais-fcc-votes-to-allow-blocking-and-throttling/\n",
      "retrieving article: https://arstechnica.com/tech-policy/2017/12/security-problem-disrupts-fcc-vote-to-kill-net-neutrality-rules/\n",
      "retrieving article: https://arstechnica.com/gadgets/2017/12/microsoft-quietly-snuck-an-ssh-client-and-server-into-the-latest-windows-10/\n",
      "retrieving article: https://arstechnica.com/gaming/2017/12/mr-robot-s3-if-you-abandoned-f-society-last-year-its-time-to-come-back/\n",
      "done parsing 155 articles\n"
     ]
    }
   ],
   "source": [
    "page_bodies = (retrieve_parsed_page(url) for url in url_list)\n",
    "article_urls = []\n",
    "for body in page_bodies:\n",
    "    article_urls += get_article_links(body)\n",
    "\n",
    "print(f'starting parse of {len(article_urls)} articles')\n",
    "\n",
    "article_list = []\n",
    "for url in article_urls:\n",
    "    print(f'retrieving article: {url}')\n",
    "    parsed_page = retrieve_parsed_page(url)\n",
    "    article_text = get_article_text(parsed_page)\n",
    "    article_list.append(article_text)\n",
    "print(f'done parsing {len(article_list)} articles')"
   ]
  },
  {
   "cell_type": "code",
   "execution_count": 408,
   "metadata": {},
   "outputs": [],
   "source": [
    "# TF-IDF vectorization"
   ]
  },
  {
   "cell_type": "code",
   "execution_count": 463,
   "metadata": {},
   "outputs": [],
   "source": [
    "from sklearn.feature_extraction.text import TfidfVectorizer\n",
    "\n",
    "vectorizer_instance = TfidfVectorizer(\n",
    "    max_df=0.5, # exclude words that appear in more than 50% of the corpus\n",
    "    min_df=3, # exclude words that appear less than 2 times total. (cut)\n",
    "    stop_words='english', \n",
    "    strip_accents='unicode'\n",
    ")\n",
    "\n",
    "# from sklearn.feature_extraction.text import CountVectorizer\n",
    "# count_v = CountVectorizer()\n",
    "# print(count_v.fit_transform(article_list))"
   ]
  },
  {
   "cell_type": "code",
   "execution_count": 464,
   "metadata": {},
   "outputs": [],
   "source": [
    "X = vectorizer_instance.fit_transform(article_list)"
   ]
  },
  {
   "cell_type": "code",
   "execution_count": 465,
   "metadata": {},
   "outputs": [
    {
     "data": {
      "text/plain": [
       "<155x3578 sparse matrix of type '<class 'numpy.float64'>'\n",
       "\twith 30328 stored elements in Compressed Sparse Row format>"
      ]
     },
     "execution_count": 465,
     "metadata": {},
     "output_type": "execute_result"
    }
   ],
   "source": [
    "# print(X[0].toarray())\n",
    "X"
   ]
  },
  {
   "cell_type": "code",
   "execution_count": 466,
   "metadata": {},
   "outputs": [],
   "source": [
    "# Clustering"
   ]
  },
  {
   "cell_type": "code",
   "execution_count": 467,
   "metadata": {},
   "outputs": [],
   "source": [
    "from sklearn.cluster import KMeans\n",
    "from sklearn.metrics import silhouette_samples, silhouette_score\n",
    "import numpy as np"
   ]
  },
  {
   "cell_type": "code",
   "execution_count": 475,
   "metadata": {},
   "outputs": [],
   "source": [
    "# use Silhouette score to find a good value for number of clusters\n",
    "cluster_scores = {}\n",
    "for n_cluster in range(2,20):\n",
    "    km_fitter = KMeans(\n",
    "        n_clusters = n_cluster,\n",
    "        init='k-means++',\n",
    "        max_iter=20,\n",
    "        n_init=1,\n",
    "        verbose=False\n",
    "    )\n",
    "    km_fitter.fit(X)\n",
    "    cluster_scores[n_cluster] = silhouette_score(X, km_fitter.labels_)"
   ]
  },
  {
   "cell_type": "code",
   "execution_count": 476,
   "metadata": {},
   "outputs": [
    {
     "name": "stdout",
     "output_type": "stream",
     "text": [
      "sorted values: {15: 0.072699075364547366, 19: 0.072360495579434067, 13: 0.069781529955573018, 12: 0.068921836814582971, 18: 0.067196668687603947, 17: 0.065416735021016109, 14: 0.062763902475867453, 6: 0.05605791697209362, 9: 0.055569852668344175, 16: 0.05496508654556239, 11: 0.050521712525642394, 10: 0.046868183415826291, 8: 0.041997257067273482, 7: 0.037064864842116768, 5: 0.033822887501055714, 4: 0.032801365854935302, 3: 0.025582054748249736, 2: 0.013865257179117955}\n",
      "\n",
      "best value: 15\n"
     ]
    }
   ],
   "source": [
    "sorted_cluster_scores = sorted(cluster_scores, key=cluster_scores.get, reverse=True)\n",
    "print(f'sorted values: { {key: cluster_scores[key] for key in sorted_cluster_scores} }\\n\\nbest value: {sorted_cluster_scores[0]}')"
   ]
  },
  {
   "cell_type": "code",
   "execution_count": 477,
   "metadata": {},
   "outputs": [],
   "source": [
    "km_fitter = KMeans(\n",
    "    n_clusters = sorted_cluster_scores[0],\n",
    "    init='k-means++',\n",
    "    max_iter=100,\n",
    "    n_init=1,\n",
    "    verbose=True\n",
    ")"
   ]
  },
  {
   "cell_type": "code",
   "execution_count": 478,
   "metadata": {},
   "outputs": [
    {
     "name": "stdout",
     "output_type": "stream",
     "text": [
      "Initialization complete\n",
      "Iteration  0, inertia 213.811\n",
      "Iteration  1, inertia 115.944\n",
      "Iteration  2, inertia 115.350\n",
      "Converged at iteration 2: center shift 0.000000e+00 within tolerance 2.656964e-08\n"
     ]
    },
    {
     "data": {
      "text/plain": [
       "KMeans(algorithm='auto', copy_x=True, init='k-means++', max_iter=100,\n",
       "    n_clusters=15, n_init=1, n_jobs=1, precompute_distances='auto',\n",
       "    random_state=None, tol=0.0001, verbose=True)"
      ]
     },
     "execution_count": 478,
     "metadata": {},
     "output_type": "execute_result"
    }
   ],
   "source": [
    "km_fitter.fit(X)"
   ]
  },
  {
   "cell_type": "code",
   "execution_count": 479,
   "metadata": {},
   "outputs": [
    {
     "name": "stdout",
     "output_type": "stream",
     "text": [
      "(array([ 0,  1,  2,  3,  4,  5,  6,  7,  8,  9, 10, 11, 12, 13, 14], dtype=int32), array([10, 12, 17,  7, 17, 14,  8,  4, 20,  8,  6, 13,  9,  5,  5]))\n"
     ]
    }
   ],
   "source": [
    "print(np.unique(km_fitter.labels_, return_counts=True))"
   ]
  },
  {
   "cell_type": "code",
   "execution_count": 480,
   "metadata": {},
   "outputs": [],
   "source": [
    "grouped_articles = {}\n",
    "for group, article in zip(km_fitter.labels_, article_list):\n",
    "    try:\n",
    "         grouped_articles[group].append(article)\n",
    "    except KeyError:\n",
    "        grouped_articles[group] = [article]"
   ]
  },
  {
   "cell_type": "code",
   "execution_count": 481,
   "metadata": {},
   "outputs": [],
   "source": [
    "# cluster analysis"
   ]
  },
  {
   "cell_type": "code",
   "execution_count": 482,
   "metadata": {},
   "outputs": [],
   "source": [
    "from nltk.tokenize import word_tokenize\n",
    "from nltk.corpus import stopwords\n",
    "from string import punctuation\n",
    "from nltk.probability import FreqDist\n",
    "from heapq import nlargest"
   ]
  },
  {
   "cell_type": "code",
   "execution_count": 484,
   "metadata": {},
   "outputs": [],
   "source": [
    "stopword_list = stopwords.words('english') + list(punctuation) + ['’', '“', '”', '\\'s']\n",
    "newline_char = '\\n'\n",
    "\n",
    "def tokenize_words(text):\n",
    "    tokenized_words = word_tokenize(text.lower())\n",
    "    return [word for word in tokenized_words if word not in stopword_list]\n",
    "\n",
    "def top_occurring_words(word_list, top_n=10):\n",
    "    word_frequency = FreqDist(word_list)\n",
    "    top_words = nlargest(top_n, word_frequency, key=word_frequency.get)\n",
    "    return [(word, word_frequency[word]) for word in top_words]\n",
    "\n",
    "def get_exclusion_set(group_name, grouped_articles):\n",
    "    other_articles = '\\n'.join(\n",
    "        '\\n'.join(articles)\n",
    "        for group, articles\n",
    "        in grouped_articles.items()\n",
    "        if group != group_name\n",
    "    )\n",
    "    return set(tokenize_words(other_articles))\n",
    "\n",
    "def get_word_list(articles, group_name, grouped_articles):\n",
    "    merged_list = '\\n'.join(article_list)\n",
    "    tokenized_words = tokenize_words(merged_list)\n",
    "    exclusion_set = get_exclusion_set(group_name, grouped_articles)\n",
    "    return [\n",
    "        word\n",
    "        for word\n",
    "        in tokenized_words\n",
    "        if word not in exclusion_set\n",
    "    ]\n",
    "\n",
    "\n",
    "def parse_article_list(articles, group_name, grouped_articles, top_n=40):\n",
    "    print(f'parsing articles for group {group_name}')\n",
    "    word_list = get_word_list(articles, group_name, grouped_articles)\n",
    "    return top_occurring_words(word_list, top_n)\n",
    "\n",
    "    \n",
    "def display_top_unique_words_by_group(grouped_articles, n_words):\n",
    "    \"\"\"\n",
    "    Display the n most used words unique to each group (i.e. not used in any other group)\n",
    "    \"\"\"\n",
    "    merged_articles = {\n",
    "        group: parse_article_list(articles, group, grouped_articles, n_words)\n",
    "        for group, articles \n",
    "        in grouped_articles.items()\n",
    "    }\n",
    "    \n",
    "    for group, word_list in merged_articles.items():\n",
    "        tuple_joiner = lambda tup: f'{tup[0]} - {tup[1]}'\n",
    "        print('{group}: {word}\\n'.format(\n",
    "            group=group,\n",
    "            word=' | '.join((tuple_joiner(word) for word in word_list))\n",
    "        ))"
   ]
  },
  {
   "cell_type": "code",
   "execution_count": 485,
   "metadata": {},
   "outputs": [
    {
     "name": "stdout",
     "output_type": "stream",
     "text": [
      "parsing articles for group 8\n",
      "parsing articles for group 4\n",
      "parsing articles for group 5\n",
      "parsing articles for group 12\n",
      "parsing articles for group 11\n",
      "parsing articles for group 2\n",
      "parsing articles for group 10\n",
      "parsing articles for group 1\n",
      "parsing articles for group 13\n",
      "parsing articles for group 3\n",
      "parsing articles for group 0\n",
      "parsing articles for group 7\n",
      "parsing articles for group 6\n",
      "parsing articles for group 14\n",
      "parsing articles for group 9\n",
      "8: alexa - 50 | samsung - 17 | e-ink - 17 | mofs - 16 | smartwatch - 14 | smartwatches - 14 | tango - 11 | headset - 10 | bixby - 9 | mof - 9\n",
      "\n",
      "4: neighbor - 15 | loot - 14 | adana - 13 | nintendo - 12 | arg - 12 | puzzles - 11 | bungie - 11 | vi - 10 | elite - 10 | o'donnell - 9\n",
      "\n",
      "5: driverless - 23 | stelvio - 23 | alfa - 20 | bmw - 20 | cruise - 18 | tesla - 16 | phoenix - 14 | toyota - 13 | hyperloop - 12 | lane - 11\n",
      "\n",
      "12: backpage - 16 | jacobs - 13 | spca - 13 | knightscope - 12 | comicmix - 11 | immunity - 10 | robots - 10 | samples - 9 | professor - 9 | pink - 9\n",
      "\n",
      "11: sous-vide - 32 | food - 31 | fda - 29 | mellow - 18 | cbd - 18 | homeopathic - 17 | rainfall - 12 | beef - 11 | cassell - 11 | cook - 10\n",
      "\n",
      "2: api - 42 | chrome - 33 | keeper - 16 | 32-bit - 14 | centennial - 11 | installer - 10 | plugin - 8 | mining - 7 | renewal - 6 | tinder - 6\n",
      "\n",
      "10: lockheed - 14 | elliot - 12 | aircraft - 11 | comics - 8 | andré - 8 | darpa - 8 | skunk - 7 | esmail - 7 | ksp - 6 | llnl - 6\n",
      "\n",
      "1: lunar - 150 | lander - 30 | tranquility - 24 | rendezvous - 24 | mcdivitt - 24 | abort - 19 | capsule - 19 | saturn - 18 | descent - 18 | schweikart - 18\n",
      "\n",
      "13: engagement - 17 | bait - 11 | nationalists - 3 | cantwell - 3 | demote - 3 | feeds - 3 | back-and-forth - 2 | nazis - 2 | bethesda - 2 | tagline - 2\n",
      "\n",
      "3: oumuamua - 12 | rebellion - 9 | kylo - 9 | leia - 9 | trilogy - 7 | iss - 7 | poe - 6 | vandal - 5 | yoda - 5 | tail - 4\n",
      "\n",
      "0: korea - 20 | iran - 19 | fox-it - 16 | missile - 15 | bossert - 12 | sis - 12 | eruptions - 10 | ballistic - 10 | saudi - 9 | pacific - 7\n",
      "\n",
      "7: techbargains - 8 | headphones - 7 | greetings - 4 | hdtvs - 3 | bargains - 2 | dell - 2 | bose - 2 | quietcomfort - 2 | last-minute - 1 | worthwhile - 1\n",
      "\n",
      "6: bitcoins - 31 | payments - 17 | coinbase - 13 | bitpay - 13 | small-block - 7 | bubble - 6 | signatures - 6 | alice - 6 | mastercard - 5 | nakamoto - 5\n",
      "\n",
      "14: comcast - 70 | pierce - 32 | charter - 24 | rcn - 13 | hotel - 11 | szakaly - 11 | merger - 11 | ncats - 10 | programming - 10 | spp - 9\n",
      "\n",
      "9: republican - 14 | blackburn - 11 | ig - 10 | reinstate - 8 | preempt - 7 | freedom - 7 | cra - 7 | preemption - 6 | schneiderman - 6 | prioritization - 5\n",
      "\n"
     ]
    }
   ],
   "source": [
    "display_top_unique_words_by_group(grouped_articles, 10)"
   ]
  },
  {
   "cell_type": "code",
   "execution_count": null,
   "metadata": {},
   "outputs": [],
   "source": []
  }
 ],
 "metadata": {
  "kernelspec": {
   "display_name": "Python 3",
   "language": "python",
   "name": "python3"
  },
  "language_info": {
   "codemirror_mode": {
    "name": "ipython",
    "version": 3
   },
   "file_extension": ".py",
   "mimetype": "text/x-python",
   "name": "python",
   "nbconvert_exporter": "python",
   "pygments_lexer": "ipython3",
   "version": "3.6.3"
  }
 },
 "nbformat": 4,
 "nbformat_minor": 2
}
