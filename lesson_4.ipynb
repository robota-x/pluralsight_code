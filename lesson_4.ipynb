{
 "cells": [
  {
   "cell_type": "code",
   "execution_count": 17,
   "metadata": {},
   "outputs": [],
   "source": [
    "# article retrieval\n",
    "import requests\n",
    "from bs4 import BeautifulSoup"
   ]
  },
  {
   "cell_type": "code",
   "execution_count": 18,
   "metadata": {},
   "outputs": [],
   "source": [
    "home_url = 'https://arstechnica.com/'\n",
    "# page_text = requests.get(pageUrl).text\n",
    "# parsed_page = BeautifulSoup(page_text, 'lxml')"
   ]
  },
  {
   "cell_type": "code",
   "execution_count": 19,
   "metadata": {},
   "outputs": [],
   "source": [
    "# TODO: use scrapy instead\n",
    "def retrieve_parsed_page(url):\n",
    "    page_text = requests.get(url).text\n",
    "    return BeautifulSoup(page_text, 'lxml')\n",
    "\n",
    "def get_article_links(parsed_page):\n",
    "    anchor_list = parsed_page.select('h2 a')\n",
    "    return [a['href'] for a in anchor_list]\n",
    "\n",
    "def get_article_text(parsed_page):\n",
    "    page_paragraphs = parsed_page.find('section', {'class': 'article-guts'}).findAll('p')\n",
    "    paragraph_text = [paragraph.text for paragraph in page_paragraphs]\n",
    "    return '\\n'.join(paragraph_text)"
   ]
  },
  {
   "cell_type": "code",
   "execution_count": 22,
   "metadata": {},
   "outputs": [
    {
     "name": "stdout",
     "output_type": "stream",
     "text": [
      "retrieving article: https://arstechnica.com/gadgets/2017/12/guidemaster-everything-amazons-alexa-can-do-plus-the-best-skills-to-enable/\n",
      "retrieving article: https://arstechnica.com/gaming/2017/12/ars-technicas-best-video-games-of-2017/\n",
      "retrieving article: https://arstechnica.com/gaming/2017/12/nerdy-films-in-2017-ars-picks-the-years-best-and-most-beautiful/\n",
      "retrieving article: https://arstechnica.com/gadgets/2017/12/dear-silicon-valley-a-sous-vide-is-not-a-slow-cooker/\n",
      "retrieving article: https://arstechnica.com/gaming/2017/12/virtual-realitys-best-experiences-and-biggest-teleportation-steps-in-2017/\n",
      "retrieving article: https://arstechnica.com/gaming/2017/12/lost-destiny-symphonic-album-complete-with-paul-mccartney-has-totally-leaked/\n",
      "retrieving article: https://arstechnica.com/science/2017/12/making-us-agriculture-sustainable-cut-beef-eating-in-half/\n",
      "retrieving article: https://arstechnica.com/cars/2017/12/driverless-cars-became-a-reality-in-2017-and-hardly-anyone-noticed/\n",
      "retrieving article: https://arstechnica.com/cars/2017/12/2017-behind-the-wheel-our-favorite-cars-of-the-year/\n",
      "retrieving article: https://arstechnica.com/gaming/2017/12/10-excellent-comics-that-flew-under-the-radar-in-2017/\n",
      "retrieving article: https://arstechnica.com/gaming/2017/12/a-christmas-gift-from-game-boy-rom-hackers-super-mario-land-2-in-color/\n",
      "retrieving article: https://arstechnica.com/science/2017/12/where-did-mars-water-go-maybe-into-the-planets-interior/\n",
      "retrieving article: https://arstechnica.com/staff/2017/12/the-most-talked-about-stories-on-ars-technica-in-2017/\n",
      "retrieving article: https://arstechnica.com/gadgets/2017/12/our-favorite-and-least-favorite-tech-of-2017/\n",
      "retrieving article: https://arstechnica.com/staff/2017/12/the-most-popular-stories-of-2017/\n",
      "retrieving article: https://arstechnica.com/science/2017/12/apollo-triumph/\n",
      "retrieving article: https://arstechnica.com/science/2017/12/here-are-the-intriguing-toxins-that-spice-up-our-favorite-holiday-dishes/\n",
      "retrieving article: https://arstechnica.com/gaming/2017/12/the-year-in-ars-techni-cky-tv-from-sci-fi-reboots-to-social-media-horror/\n",
      "retrieving article: https://arstechnica.com/tech-policy/2017/12/how-do-you-change-the-most-important-law-in-internet-history-carefully/\n",
      "retrieving article: https://arstechnica.com/science/2017/12/study-says-mantle-motion-not-a-plume-or-hot-spot-made-americas-volcanoes/\n",
      "retrieving article: https://arstechnica.com/information-technology/2017/12/okcupid-begins-enforcing-real-name-rules-insists-its-a-good-idea/\n",
      "retrieving article: https://arstechnica.com/gadgets/2017/12/parents-cant-use-the-iphone-xs-face-id-to-approve-family-purchases/\n",
      "retrieving article: https://arstechnica.com/tech-policy/2017/12/days-after-iphone-battery-fiasco-lawsuits-against-apple-begin-to-mount/\n",
      "retrieving article: https://arstechnica.com/staff/2017/12/dealmaster-get-a-100-itunes-gift-card-for-85/\n",
      "retrieving article: https://arstechnica.com/gadgets/2017/12/nvidia-to-cease-producing-new-drivers-for-32-bit-systems/\n",
      "retrieving article: https://arstechnica.com/tech-policy/2017/12/bitcoin-a-beginners-guide/\n",
      "retrieving article: https://arstechnica.com/science/2017/12/how-google-porn-and-the-birth-of-jesus-may-explain-human-reproduction-cycles/\n",
      "retrieving article: https://arstechnica.com/science/2017/12/video-see-our-full-interview-with-orion-program-manager-mark-kirasich/\n",
      "retrieving article: https://arstechnica.com/cars/2017/12/the-rinspeed-snap-explores-future-proofing-with-a-modular-electric-vehicle/\n",
      "retrieving article: https://arstechnica.com/information-technology/2017/12/georgia-regulators-say-dramatically-over-budget-nuclear-plant-can-move-forward/\n",
      "retrieving article: https://arstechnica.com/tech-policy/2017/12/bitcoins-price-is-down-33-percent-from-highs-earlier-this-week/\n",
      "done parsing {len(article_list)} articles\n"
     ]
    }
   ],
   "source": [
    "parsed_homepage = retrieve_parsed_page(home_url)\n",
    "article_urls = get_article_links(parsed_homepage)\n",
    "\n",
    "article_list = []\n",
    "for url in article_urls:\n",
    "    print(f'retrieving article: {url}')\n",
    "    parsed_page = retrieve_parsed_page(url)\n",
    "    article_text = get_article_text(parsed_page)\n",
    "    article_list.append(article_text)\n",
    "print(f'done parsing {len(article_list)} articles')"
   ]
  },
  {
   "cell_type": "code",
   "execution_count": null,
   "metadata": {},
   "outputs": [],
   "source": []
  }
 ],
 "metadata": {
  "kernelspec": {
   "display_name": "Python 3",
   "language": "python",
   "name": "python3"
  },
  "language_info": {
   "codemirror_mode": {
    "name": "ipython",
    "version": 3
   },
   "file_extension": ".py",
   "mimetype": "text/x-python",
   "name": "python",
   "nbconvert_exporter": "python",
   "pygments_lexer": "ipython3",
   "version": "3.6.3"
  }
 },
 "nbformat": 4,
 "nbformat_minor": 2
}
