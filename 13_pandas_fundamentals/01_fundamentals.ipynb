{
 "cells": [
  {
   "cell_type": "code",
   "execution_count": 1,
   "metadata": {},
   "outputs": [],
   "source": [
    "import numpy as np\n",
    "import pandas as pd"
   ]
  },
  {
   "cell_type": "code",
   "execution_count": 2,
   "metadata": {},
   "outputs": [],
   "source": [
    "# Arrays and Series"
   ]
  },
  {
   "cell_type": "code",
   "execution_count": 3,
   "metadata": {},
   "outputs": [],
   "source": [
    "np_array = np.random.rand(3)\n",
    "pd_series = pd.Series(np_array, index=['one', 'two', 'three'])"
   ]
  },
  {
   "cell_type": "code",
   "execution_count": 4,
   "metadata": {},
   "outputs": [
    {
     "name": "stdout",
     "output_type": "stream",
     "text": [
      "array:  [0.26986268 0.65920718 0.46576224]\n",
      "series:  one      0.269863\n",
      "two      0.659207\n",
      "three    0.465762\n",
      "dtype: float64\n",
      "indexes:  Index(['one', 'two', 'three'], dtype='object')\n"
     ]
    }
   ],
   "source": [
    "print('array: ', np_array)\n",
    "print('series: ', pd_series)\n",
    "print('indexes: ', pd_series.index)"
   ]
  },
  {
   "cell_type": "code",
   "execution_count": 5,
   "metadata": {},
   "outputs": [],
   "source": [
    "# n-dim Arrays and Data Frames"
   ]
  },
  {
   "cell_type": "code",
   "execution_count": 6,
   "metadata": {},
   "outputs": [],
   "source": [
    "np_2d_arr = np.random.rand(2, 3)\n",
    "df = pd.DataFrame(np_2d_arr)"
   ]
  },
  {
   "cell_type": "code",
   "execution_count": 7,
   "metadata": {},
   "outputs": [
    {
     "name": "stdout",
     "output_type": "stream",
     "text": [
      "array:  [[0.60723024 0.17295157 0.26446949]\n",
      " [0.13935244 0.76483208 0.20648347]]\n",
      "df:            0         1         2\n",
      "0  0.607230  0.172952  0.264469\n",
      "1  0.139352  0.764832  0.206483\n"
     ]
    }
   ],
   "source": [
    "print('array: ', np_2d_arr)\n",
    "print('df: ', df)"
   ]
  },
  {
   "cell_type": "code",
   "execution_count": 8,
   "metadata": {},
   "outputs": [
    {
     "name": "stdout",
     "output_type": "stream",
     "text": [
      "0.17295157422097485\n",
      "0.17295157422097485\n"
     ]
    }
   ],
   "source": [
    "print(np_2d_arr[0,1])  # row, column\n",
    "print(df[1][0]) # column.row"
   ]
  },
  {
   "cell_type": "code",
   "execution_count": 10,
   "metadata": {},
   "outputs": [
    {
     "name": "stdout",
     "output_type": "stream",
     "text": [
      "0    0.607230\n",
      "1    0.139352\n",
      "Name: first, dtype: float64\n",
      "0.607230244516374\n"
     ]
    }
   ],
   "source": [
    "df.columns = ['first', 'second', 'third']\n",
    "print(df['first'])\n",
    "print(df['first'][0])"
   ]
  },
  {
   "cell_type": "code",
   "execution_count": null,
   "metadata": {},
   "outputs": [],
   "source": []
  }
 ],
 "metadata": {
  "kernelspec": {
   "display_name": "Python 3",
   "language": "python",
   "name": "python3"
  },
  "language_info": {
   "codemirror_mode": {
    "name": "ipython",
    "version": 3
   },
   "file_extension": ".py",
   "mimetype": "text/x-python",
   "name": "python",
   "nbconvert_exporter": "python",
   "pygments_lexer": "ipython3",
   "version": "3.6.4"
  }
 },
 "nbformat": 4,
 "nbformat_minor": 2
}
