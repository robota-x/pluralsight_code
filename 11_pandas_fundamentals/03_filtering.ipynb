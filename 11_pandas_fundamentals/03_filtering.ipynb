{
 "cells": [
  {
   "cell_type": "code",
   "execution_count": null,
   "metadata": {},
   "outputs": [],
   "source": [
    "# Init and import"
   ]
  },
  {
   "cell_type": "code",
   "execution_count": 1,
   "metadata": {},
   "outputs": [],
   "source": [
    "import numpy as np\n",
    "import pandas as pd"
   ]
  },
  {
   "cell_type": "code",
   "execution_count": 5,
   "metadata": {},
   "outputs": [
    {
     "name": "stdout",
     "output_type": "stream",
     "text": [
      "(69201, 8)\n",
      "              artist                                              title  \\\n",
      "id                                                                        \n",
      "1035   Blake, Robert  A Figure Bowing before a Seated Old Man with h...   \n",
      "1036   Blake, Robert  Two Drawings of Frightened Figures, Probably f...   \n",
      "1037   Blake, Robert  The Preaching of Warning. Verso: An Old Man En...   \n",
      "1038   Blake, Robert     Six Drawings of Figures with Outstretched Arms   \n",
      "1039  Blake, William  The Circle of the Lustful: Francesca da Rimini...   \n",
      "\n",
      "                                                 medium  year  \\\n",
      "id                                                              \n",
      "1035  Watercolour, ink, chalk and graphite on paper....   NaN   \n",
      "1036                                  Graphite on paper   NaN   \n",
      "1037        Graphite on paper. Verso: graphite on paper  1785   \n",
      "1038                                  Graphite on paper   NaN   \n",
      "1039                            Line engraving on paper  1826   \n",
      "\n",
      "      acquisitionYear width height units  \n",
      "id                                        \n",
      "1035           1922.0   394    419    mm  \n",
      "1036           1922.0   311    213    mm  \n",
      "1037           1922.0   343    467    mm  \n",
      "1038           1922.0   318    394    mm  \n",
      "1039           1919.0   243    335    mm  \n"
     ]
    },
    {
     "name": "stderr",
     "output_type": "stream",
     "text": [
      "/home/robota/propro/pluralsight_code/11_pandas_fundamentals/env/lib/python3.6/site-packages/IPython/core/interactiveshell.py:2785: DtypeWarning: Columns (9,13) have mixed types. Specify dtype option on import or set low_memory=False.\n",
      "  interactivity=interactivity, compiler=compiler, result=result)\n"
     ]
    }
   ],
   "source": [
    "data_source = 'artwork_data.csv'\n",
    "df = pd.read_csv(\n",
    "    data_source, \n",
    "    index_col='id',\n",
    "    usecols=['id', 'artist', 'title', 'medium', 'year', 'acquisitionYear', 'width', 'height', 'units']\n",
    ")\n",
    "print(df.shape)\n",
    "print(df.head())"
   ]
  },
  {
   "cell_type": "code",
   "execution_count": null,
   "metadata": {},
   "outputs": [],
   "source": [
    "# Utility and filtering"
   ]
  }
 ],
 "metadata": {
  "kernelspec": {
   "display_name": "Python 3",
   "language": "python",
   "name": "python3"
  },
  "language_info": {
   "codemirror_mode": {
    "name": "ipython",
    "version": 3
   },
   "file_extension": ".py",
   "mimetype": "text/x-python",
   "name": "python",
   "nbconvert_exporter": "python",
   "pygments_lexer": "ipython3",
   "version": "3.6.4"
  }
 },
 "nbformat": 4,
 "nbformat_minor": 2
}
