{
 "cells": [
  {
   "cell_type": "code",
   "execution_count": 1,
   "metadata": {},
   "outputs": [],
   "source": [
    "# Init and import"
   ]
  },
  {
   "cell_type": "code",
   "execution_count": 2,
   "metadata": {},
   "outputs": [],
   "source": [
    "import numpy as np\n",
    "import pandas as pd"
   ]
  },
  {
   "cell_type": "code",
   "execution_count": 3,
   "metadata": {
    "scrolled": true
   },
   "outputs": [
    {
     "name": "stdout",
     "output_type": "stream",
     "text": [
      "(69201, 8)\n",
      "              artist                                              title  \\\n",
      "id                                                                        \n",
      "1035   Blake, Robert  A Figure Bowing before a Seated Old Man with h...   \n",
      "1036   Blake, Robert  Two Drawings of Frightened Figures, Probably f...   \n",
      "1037   Blake, Robert  The Preaching of Warning. Verso: An Old Man En...   \n",
      "1038   Blake, Robert     Six Drawings of Figures with Outstretched Arms   \n",
      "1039  Blake, William  The Circle of the Lustful: Francesca da Rimini...   \n",
      "\n",
      "                                                 medium  year  \\\n",
      "id                                                              \n",
      "1035  Watercolour, ink, chalk and graphite on paper....   NaN   \n",
      "1036                                  Graphite on paper   NaN   \n",
      "1037        Graphite on paper. Verso: graphite on paper  1785   \n",
      "1038                                  Graphite on paper   NaN   \n",
      "1039                            Line engraving on paper  1826   \n",
      "\n",
      "      acquisitionYear width height units  \n",
      "id                                        \n",
      "1035           1922.0   394    419    mm  \n",
      "1036           1922.0   311    213    mm  \n",
      "1037           1922.0   343    467    mm  \n",
      "1038           1922.0   318    394    mm  \n",
      "1039           1919.0   243    335    mm  \n"
     ]
    },
    {
     "name": "stderr",
     "output_type": "stream",
     "text": [
      "/home/robota/propro/pluralsight_code/11_pandas_fundamentals/env/lib/python3.6/site-packages/IPython/core/interactiveshell.py:2785: DtypeWarning: Columns (9,13) have mixed types. Specify dtype option on import or set low_memory=False.\n",
      "  interactivity=interactivity, compiler=compiler, result=result)\n"
     ]
    }
   ],
   "source": [
    "data_source = 'artwork_data.csv'\n",
    "df = pd.read_csv(\n",
    "    data_source, \n",
    "    index_col='id',\n",
    "    usecols=['id', 'artist', 'title', 'medium', 'year', 'acquisitionYear', 'width', 'height', 'units']\n",
    ")\n",
    "print(df.shape)\n",
    "print(df.head())"
   ]
  },
  {
   "cell_type": "code",
   "execution_count": 4,
   "metadata": {},
   "outputs": [],
   "source": [
    "# Aggregate"
   ]
  },
  {
   "cell_type": "code",
   "execution_count": 5,
   "metadata": {
    "scrolled": true
   },
   "outputs": [
    {
     "name": "stdout",
     "output_type": "stream",
     "text": [
      "Abrahams, Ivor 1975.0 108\n",
      "Arnatt, Keith 1973.0 133\n",
      "Barlow, Francis 1971.0 109\n",
      "Beuys, Joseph 1972.0 578\n",
      "Blake, William 1878.0 180\n",
      "British (?) School 1997.0 388\n",
      "Burne-Jones, Sir Edward Coley, Bt 1900.0 138\n",
      "Caulfield, Patrick 1967.0 124\n",
      "Constable, John 1847.0 249\n",
      "Cozens, Alexander 1923.0 237\n",
      "Dance-Holland, Sir Nathaniel 1955.0 169\n",
      "Daniell, William 1979.0 612\n",
      "Davis, John Scarlett 1935.0 104\n",
      "Ferrari, León 2009.0 199\n",
      "Flanagan, Barry 1969.0 162\n",
      "Flaxman, John 1922.0 287\n",
      "Frink, Dame Elisabeth 1953.0 125\n",
      "Gabo, Naum 1958.0 132\n",
      "Gainsborough, Thomas 1847.0 158\n",
      "Gill, Eric 1920.0 128\n",
      "Hamilton Finlay, Ian 1974.0 164\n",
      "Hamilton, Richard 1964.0 138\n",
      "Hepworth, Dame Barbara 1950.0 123\n",
      "Hockney, David 1963.0 111\n",
      "House, Gordon 1975.0 110\n",
      "Jones, George 1847.0 1046\n",
      "Kippenberger, Martin 2005.0 109\n",
      "Kitaj, R.B. 1963.0 179\n",
      "Kossoff, Leon 1963.0 116\n",
      "Moore, Henry, OM, CH 1939.0 623\n",
      "Nolan, Sir Sidney 1951.0 135\n",
      "Paolozzi, Sir Eduardo 1958.0 385\n",
      "Pasmore, Victor 1941.0 135\n",
      "Phillips, Esq Tom 1971.0 274\n",
      "Piper, John 1940.0 183\n",
      "Roberts, William 1926.0 142\n",
      "Schütte, Thomas 1995.0 156\n",
      "Stothard, Thomas 1847.0 215\n",
      "Tilson, Joe 1962.0 152\n",
      "Trevelyan, Julian 1955.0 105\n",
      "Turner, Joseph Mallord William 1847.0 39389\n",
      "Varley, John 1888.0 102\n",
      "Walker, John 1968.0 135\n",
      "Warhol, Andy 1971.0 272\n",
      "Winner, Gerd 1975.0 122\n",
      "Zaatari, Akram 2008.0 119\n"
     ]
    }
   ],
   "source": [
    "for artist, sub_df in df.groupby('artist'):\n",
    "    if sub_df.shape[0] > 100:\n",
    "        first_acquisition = sub_df['acquisitionYear'].min()\n",
    "        print(artist, first_acquisition, sub_df.shape[0])"
   ]
  },
  {
   "cell_type": "code",
   "execution_count": 6,
   "metadata": {},
   "outputs": [],
   "source": [
    "# Transform"
   ]
  },
  {
   "cell_type": "code",
   "execution_count": 7,
   "metadata": {
    "scrolled": true
   },
   "outputs": [],
   "source": [
    "def fill_missing_df(df, col, min_percentage=0.5, min_num=10):\n",
    "    v_list = df[col].value_counts()\n",
    "    if v_list[0] >= min_num and v_list[0] * 1.0 / df.shape[0] >= min_percentage:\n",
    "        filled_col = df[col].fillna(v_list.index[0])\n",
    "        return df.assign(**{col: filled_col})\n",
    "    return df"
   ]
  },
  {
   "cell_type": "code",
   "execution_count": 8,
   "metadata": {},
   "outputs": [
    {
     "name": "stdout",
     "output_type": "stream",
     "text": [
      "id\n",
      "6652                                      Oil paint on oak\n",
      "102939    Burlap, cotton gauze, hemp rope, nylon and sisal\n",
      "102938                                     Sisal and metal\n",
      "103642                                     Sisal and steel\n",
      "103644                                    Burlap and resin\n",
      "Name: medium, dtype: object\n"
     ]
    }
   ],
   "source": [
    "artist_list = pd.unique(df['artist'])\n",
    "filled_df = pd.concat(fill_missing_df(sub_df, 'medium') for _, sub_df in df.groupby('artist'))\n",
    "print(filled_df['medium'].head())"
   ]
  },
  {
   "cell_type": "code",
   "execution_count": 9,
   "metadata": {},
   "outputs": [],
   "source": [
    "# Helper Transform method"
   ]
  },
  {
   "cell_type": "code",
   "execution_count": 10,
   "metadata": {},
   "outputs": [],
   "source": [
    "def fill_missing_values(values, min_percentage=0.5, min_num=10):\n",
    "    v_list = values.value_counts()\n",
    "    if v_list.shape[0] >= min_num and v_list.shape[0] * 1.0 / values.shape[0] >= min_percentage:\n",
    "        return values.fillna(v_list.index[0])\n",
    "    return values"
   ]
  },
  {
   "cell_type": "code",
   "execution_count": 11,
   "metadata": {},
   "outputs": [
    {
     "name": "stdout",
     "output_type": "stream",
     "text": [
      "id\n",
      "1035    Watercolour, ink, chalk and graphite on paper....\n",
      "1036                                    Graphite on paper\n",
      "1037          Graphite on paper. Verso: graphite on paper\n",
      "1038                                    Graphite on paper\n",
      "1039                              Line engraving on paper\n",
      "Name: medium, dtype: object\n"
     ]
    }
   ],
   "source": [
    "filled_df_bis = df.assign(medium=df.groupby('artist')['medium'].transform(fill_missing_values))\n",
    "print(filled_df_bis['medium'].head())"
   ]
  },
  {
   "cell_type": "code",
   "execution_count": 12,
   "metadata": {},
   "outputs": [],
   "source": [
    "# Helper Aggregate method"
   ]
  },
  {
   "cell_type": "code",
   "execution_count": 13,
   "metadata": {},
   "outputs": [
    {
     "name": "stdout",
     "output_type": "stream",
     "text": [
      "artist\n",
      "?British School           1927.0\n",
      "Abakanowicz, Magdalena    2009.0\n",
      "Abbey, Edwin Austin       1924.0\n",
      "Abbott, Berenice          2010.0\n",
      "Abbott, Lemuel Francis    1885.0\n",
      "Name: acquisitionYear, dtype: float64\n"
     ]
    }
   ],
   "source": [
    "first_acquisition_years = df.groupby('artist')['acquisitionYear'].agg(np.min)\n",
    "first_acquisition_years = df.groupby('artist')['acquisitionYear'].min()  ## alias shortcut\n",
    "print(first_acquisition_years.head())"
   ]
  },
  {
   "cell_type": "code",
   "execution_count": 14,
   "metadata": {
    "scrolled": true
   },
   "outputs": [],
   "source": [
    "# Helper Filter method"
   ]
  },
  {
   "cell_type": "code",
   "execution_count": 15,
   "metadata": {},
   "outputs": [
    {
     "name": "stdout",
     "output_type": "stream",
     "text": [
      "[title not known]    3572\n",
      "Blank                3031\n",
      "[blank]              2482\n",
      "[no title]           1874\n",
      "Untitled              639\n",
      "Name: title, dtype: int64\n"
     ]
    }
   ],
   "source": [
    "duplicated_titles_df = df.groupby('title').filter(lambda x: len(x.index) > 1)\n",
    "print(duplicated_titles_df['title'].value_counts().head())"
   ]
  }
 ],
 "metadata": {
  "kernelspec": {
   "display_name": "Python 3",
   "language": "python",
   "name": "python3"
  },
  "language_info": {
   "codemirror_mode": {
    "name": "ipython",
    "version": 3
   },
   "file_extension": ".py",
   "mimetype": "text/x-python",
   "name": "python",
   "nbconvert_exporter": "python",
   "pygments_lexer": "ipython3",
   "version": "3.6.4"
  }
 },
 "nbformat": 4,
 "nbformat_minor": 2
}
